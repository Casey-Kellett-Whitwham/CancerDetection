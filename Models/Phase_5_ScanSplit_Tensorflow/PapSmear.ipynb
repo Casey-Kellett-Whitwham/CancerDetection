{
 "cells": [
  {
   "cell_type": "markdown",
   "metadata": {},
   "source": [
    "\n",
    "### Papsmear SCAN MODEL\n"
   ]
  },
  {
   "cell_type": "markdown",
   "metadata": {},
   "source": [
    "---\n",
    "\n",
    "Imports \n",
    "\n",
    "---\n"
   ]
  },
  {
   "cell_type": "code",
   "execution_count": 1,
   "metadata": {},
   "outputs": [
    {
     "name": "stdout",
     "output_type": "stream",
     "text": [
      "2.19.0\n"
     ]
    },
    {
     "name": "stderr",
     "output_type": "stream",
     "text": [
      "C:\\Users\\ckell\\AppData\\Local\\Temp\\ipykernel_26664\\1512335882.py:22: DeprecationWarning: `import kerastuner` is deprecated, please use `import keras_tuner`.\n",
      "  from kerastuner.tuners import Hyperband\n"
     ]
    }
   ],
   "source": [
    "import importlib\n",
    "import pipeline as pl\n",
    "importlib.reload(pl)\n",
    "import model as ml\n",
    "importlib.reload(ml)\n",
    "\n",
    "import os\n",
    "import pandas as pd\n",
    "import tensorflow as tf\n",
    "from tensorflow.keras.preprocessing.image import ImageDataGenerator\n",
    "from tensorflow.keras.models import Sequential\n",
    "from tensorflow.keras.layers import Conv2D, MaxPooling2D, Flatten, Dense, Dropout, BatchNormalization\n",
    "from tensorflow.keras.optimizers import Adam\n",
    "from tensorflow.keras.callbacks import EarlyStopping\n",
    "import numpy as np\n",
    "from sklearn.model_selection import train_test_split\n",
    "from sklearn.preprocessing import LabelEncoder\n",
    "from sklearn.metrics import classification_report\n",
    "from tensorflow.keras import layers\n",
    "import matplotlib.pyplot as plt\n",
    "import keras_tuner\n",
    "from kerastuner.tuners import Hyperband\n",
    "\n",
    "import tensorflow as tf\n",
    "from tensorflow import keras\n",
    "from tensorflow.keras import layers\n",
    "\n",
    "print(tf.__version__)"
   ]
  },
  {
   "cell_type": "markdown",
   "metadata": {},
   "source": [
    "---\n",
    "\n",
    "Load Augmented data from pipeline\n",
    "\n",
    "---"
   ]
  },
  {
   "cell_type": "code",
   "execution_count": 3,
   "metadata": {},
   "outputs": [
    {
     "name": "stdout",
     "output_type": "stream",
     "text": [
      "Found 18750 validated image filenames belonging to 5 classes.\n",
      "Found 3125 validated image filenames belonging to 5 classes.\n",
      "Found 3125 validated image filenames belonging to 5 classes.\n"
     ]
    }
   ],
   "source": [
    "csv_path = \"Pap Smear.csv\"\n",
    "train, test,val = pl.loadprocesseddata(csv_path)"
   ]
  },
  {
   "cell_type": "markdown",
   "metadata": {},
   "source": [
    "---\n",
    "\n",
    "Build Model\n",
    "\n",
    "---"
   ]
  },
  {
   "cell_type": "code",
   "execution_count": 4,
   "metadata": {},
   "outputs": [],
   "source": [
    "def build_cnn_model(hp, n_classes=5):\n",
    "    activation = hp.Choice(\"activation\", values=[\"relu\", \"tanh\", \"elu\"])\n",
    "    n_conv_layers = hp.Int(\"n_conv_layers\", min_value=2, max_value=5, step=1)\n",
    "    n_filters = hp.Int(\"n_filters\", min_value=8, max_value=64, step=8)\n",
    "    \n",
    "    kernel_size_val = hp.Choice(\"kernel_size\", values=[3, 5])\n",
    "    pool_size_val = hp.Choice(\"pool_size\", values=[2, 3])\n",
    "    \n",
    "    learning_rate = hp.Float(\"learning_rate\", min_value=1e-5, max_value=1e-2, sampling=\"log\")\n",
    "    decay_steps = hp.Int(\"decay_steps\", min_value=1000, max_value=10000, step=1000)\n",
    "    decay_rate = hp.Float(\"decay_rate\", min_value=0.9, max_value=0.999, step=0.001)\n",
    "    dropout_rate = hp.Float(\"dropout_rate\", min_value=0.2, max_value=0.5, step=0.1)\n",
    "    batch_norm = hp.Choice(\"batch_norm\", values=[True, False])\n",
    "    optimizer_choice = hp.Choice(\"optimizer\", values=[\"sgd\", \"RMSprop\", \"adam\", \"AdamW\"])\n",
    "    \n",
    "    expon_dec = keras.optimizers.schedules.ExponentialDecay(\n",
    "        initial_learning_rate=learning_rate,\n",
    "        decay_steps=decay_steps,\n",
    "        decay_rate=decay_rate\n",
    "    )\n",
    "    if optimizer_choice == \"sgd\":\n",
    "        optimizer = keras.optimizers.SGD(learning_rate=expon_dec)\n",
    "    elif optimizer_choice == \"RMSprop\":\n",
    "        optimizer = keras.optimizers.RMSprop(learning_rate=expon_dec)\n",
    "    else:\n",
    "        optimizer = keras.optimizers.Adam(learning_rate=expon_dec)\n",
    "    \n",
    "    model = keras.Sequential()\n",
    "    \n",
    "    model.add(layers.Conv2D(\n",
    "        filters=n_filters,\n",
    "        kernel_size=(kernel_size_val, kernel_size_val),\n",
    "        activation=activation,\n",
    "        input_shape=(64, 64, 3),\n",
    "        padding='same'\n",
    "    ))\n",
    "    if batch_norm:\n",
    "        model.add(layers.BatchNormalization())\n",
    "    model.add(layers.MaxPooling2D(pool_size=(pool_size_val, pool_size_val)))\n",
    "    \n",
    "    for i in range(n_conv_layers - 1):\n",
    "        model.add(layers.Conv2D(\n",
    "            filters=n_filters * (2**i),\n",
    "            kernel_size=(kernel_size_val, kernel_size_val),\n",
    "            activation=activation,\n",
    "            padding='same'\n",
    "        ))\n",
    "        if batch_norm:\n",
    "            model.add(layers.BatchNormalization())\n",
    "        model.add(layers.MaxPooling2D(pool_size=(pool_size_val, pool_size_val)))\n",
    "        model.add(layers.Dropout(dropout_rate))\n",
    "\n",
    "    model.add(layers.GlobalAveragePooling2D())\n",
    "    \n",
    "    n_dense_units = hp.Int(\"n_dense_units\", min_value=32, max_value=256, step=32)\n",
    "    model.add(layers.Dense(units=n_dense_units, activation=activation))\n",
    "    if batch_norm:\n",
    "        model.add(layers.BatchNormalization())\n",
    "    model.add(layers.Dropout(dropout_rate))\n",
    "    \n",
    "    model.add(layers.Dense(n_classes, activation=\"softmax\"))\n",
    "    \n",
    "    model.compile(loss=\"categorical_crossentropy\", optimizer=optimizer, metrics=[\"accuracy\"])\n",
    "    \n",
    "    return model\n"
   ]
  },
  {
   "cell_type": "markdown",
   "metadata": {},
   "source": [
    "---\n",
    "\n",
    "Hyperband Search\n",
    "\n",
    "---"
   ]
  },
  {
   "cell_type": "code",
   "execution_count": 6,
   "metadata": {},
   "outputs": [
    {
     "name": "stderr",
     "output_type": "stream",
     "text": [
      "c:\\Users\\ckell\\AppData\\Local\\Programs\\Python\\Python310\\lib\\site-packages\\keras\\src\\layers\\convolutional\\base_conv.py:107: UserWarning: Do not pass an `input_shape`/`input_dim` argument to a layer. When using Sequential models, prefer using an `Input(shape)` object as the first layer in the model instead.\n",
      "  super().__init__(activity_regularizer=activity_regularizer, **kwargs)\n"
     ]
    }
   ],
   "source": [
    "tuner = Hyperband(\n",
    "    lambda hp: build_cnn_model(hp),\n",
    "    objective='val_accuracy',\n",
    "    max_epochs=15,\n",
    "    factor=3,\n",
    "    directory='hyperbanding-ScanTypes',\n",
    "    project_name='Pap')"
   ]
  },
  {
   "cell_type": "code",
   "execution_count": 7,
   "metadata": {},
   "outputs": [
    {
     "name": "stdout",
     "output_type": "stream",
     "text": [
      "Trial 22 Complete [00h 28m 43s]\n",
      "val_accuracy: 0.9705600142478943\n",
      "\n",
      "Best val_accuracy So Far: 0.9705600142478943\n",
      "Total elapsed time: 02h 25m 51s\n"
     ]
    }
   ],
   "source": [
    "tuner.search(train, epochs=10, validation_data=val)"
   ]
  },
  {
   "cell_type": "code",
   "execution_count": 14,
   "metadata": {},
   "outputs": [
    {
     "name": "stderr",
     "output_type": "stream",
     "text": [
      "c:\\Users\\ckell\\AppData\\Local\\Programs\\Python\\Python310\\lib\\site-packages\\keras\\src\\layers\\convolutional\\base_conv.py:107: UserWarning: Do not pass an `input_shape`/`input_dim` argument to a layer. When using Sequential models, prefer using an `Input(shape)` object as the first layer in the model instead.\n",
      "  super().__init__(activity_regularizer=activity_regularizer, **kwargs)\n",
      "c:\\Users\\ckell\\AppData\\Local\\Programs\\Python\\Python310\\lib\\site-packages\\keras\\src\\saving\\saving_lib.py:713: UserWarning: Skipping variable loading for optimizer 'adam', because it has 1 variables whereas the saved optimizer has 53 variables. \n",
      "  saveable.load_own_variables(weights_store.get(inner_path))\n"
     ]
    }
   ],
   "source": [
    "best_model = tuner.get_best_models(num_models=1)[0]"
   ]
  },
  {
   "cell_type": "markdown",
   "metadata": {},
   "source": [
    "---\n",
    "\n",
    "Train Best Model\n",
    "\n",
    "---"
   ]
  },
  {
   "cell_type": "code",
   "execution_count": 15,
   "metadata": {},
   "outputs": [],
   "source": [
    "early_stopping = EarlyStopping(\n",
    "    monitor='val_accuracy',\n",
    "    patience=15,\n",
    "    restore_best_weights=True)"
   ]
  },
  {
   "cell_type": "code",
   "execution_count": 16,
   "metadata": {},
   "outputs": [
    {
     "name": "stdout",
     "output_type": "stream",
     "text": [
      "Epoch 1/200\n",
      "\u001b[1m586/586\u001b[0m \u001b[32m━━━━━━━━━━━━━━━━━━━━\u001b[0m\u001b[37m\u001b[0m \u001b[1m295s\u001b[0m 493ms/step - accuracy: 0.9667 - loss: 0.0969 - val_accuracy: 0.9405 - val_loss: 0.1688\n",
      "Epoch 2/200\n",
      "\u001b[1m586/586\u001b[0m \u001b[32m━━━━━━━━━━━━━━━━━━━━\u001b[0m\u001b[37m\u001b[0m \u001b[1m108s\u001b[0m 184ms/step - accuracy: 0.9715 - loss: 0.0863 - val_accuracy: 0.9210 - val_loss: 0.2320\n",
      "Epoch 3/200\n",
      "\u001b[1m586/586\u001b[0m \u001b[32m━━━━━━━━━━━━━━━━━━━━\u001b[0m\u001b[37m\u001b[0m \u001b[1m109s\u001b[0m 185ms/step - accuracy: 0.9719 - loss: 0.0856 - val_accuracy: 0.9533 - val_loss: 0.1163\n",
      "Epoch 4/200\n",
      "\u001b[1m586/586\u001b[0m \u001b[32m━━━━━━━━━━━━━━━━━━━━\u001b[0m\u001b[37m\u001b[0m \u001b[1m109s\u001b[0m 184ms/step - accuracy: 0.9757 - loss: 0.0758 - val_accuracy: 0.9462 - val_loss: 0.1549\n",
      "Epoch 5/200\n",
      "\u001b[1m586/586\u001b[0m \u001b[32m━━━━━━━━━━━━━━━━━━━━\u001b[0m\u001b[37m\u001b[0m \u001b[1m109s\u001b[0m 185ms/step - accuracy: 0.9743 - loss: 0.0774 - val_accuracy: 0.9306 - val_loss: 0.1960\n",
      "Epoch 6/200\n",
      "\u001b[1m586/586\u001b[0m \u001b[32m━━━━━━━━━━━━━━━━━━━━\u001b[0m\u001b[37m\u001b[0m \u001b[1m108s\u001b[0m 183ms/step - accuracy: 0.9771 - loss: 0.0651 - val_accuracy: 0.8829 - val_loss: 0.3229\n",
      "Epoch 7/200\n",
      "\u001b[1m586/586\u001b[0m \u001b[32m━━━━━━━━━━━━━━━━━━━━\u001b[0m\u001b[37m\u001b[0m \u001b[1m109s\u001b[0m 185ms/step - accuracy: 0.9827 - loss: 0.0530 - val_accuracy: 0.9766 - val_loss: 0.0732\n",
      "Epoch 8/200\n",
      "\u001b[1m586/586\u001b[0m \u001b[32m━━━━━━━━━━━━━━━━━━━━\u001b[0m\u001b[37m\u001b[0m \u001b[1m108s\u001b[0m 184ms/step - accuracy: 0.9748 - loss: 0.0715 - val_accuracy: 0.9830 - val_loss: 0.0388\n",
      "Epoch 9/200\n",
      "\u001b[1m586/586\u001b[0m \u001b[32m━━━━━━━━━━━━━━━━━━━━\u001b[0m\u001b[37m\u001b[0m \u001b[1m106s\u001b[0m 181ms/step - accuracy: 0.9829 - loss: 0.0510 - val_accuracy: 0.9562 - val_loss: 0.1236\n",
      "Epoch 10/200\n",
      "\u001b[1m586/586\u001b[0m \u001b[32m━━━━━━━━━━━━━━━━━━━━\u001b[0m\u001b[37m\u001b[0m \u001b[1m106s\u001b[0m 180ms/step - accuracy: 0.9806 - loss: 0.0612 - val_accuracy: 0.9917 - val_loss: 0.0213\n",
      "Epoch 11/200\n",
      "\u001b[1m586/586\u001b[0m \u001b[32m━━━━━━━━━━━━━━━━━━━━\u001b[0m\u001b[37m\u001b[0m \u001b[1m106s\u001b[0m 180ms/step - accuracy: 0.9819 - loss: 0.0498 - val_accuracy: 0.8634 - val_loss: 0.5025\n",
      "Epoch 12/200\n",
      "\u001b[1m586/586\u001b[0m \u001b[32m━━━━━━━━━━━━━━━━━━━━\u001b[0m\u001b[37m\u001b[0m \u001b[1m106s\u001b[0m 180ms/step - accuracy: 0.9824 - loss: 0.0522 - val_accuracy: 0.9469 - val_loss: 0.1892\n",
      "Epoch 13/200\n",
      "\u001b[1m586/586\u001b[0m \u001b[32m━━━━━━━━━━━━━━━━━━━━\u001b[0m\u001b[37m\u001b[0m \u001b[1m106s\u001b[0m 180ms/step - accuracy: 0.9850 - loss: 0.0465 - val_accuracy: 0.9766 - val_loss: 0.0675\n",
      "Epoch 14/200\n",
      "\u001b[1m586/586\u001b[0m \u001b[32m━━━━━━━━━━━━━━━━━━━━\u001b[0m\u001b[37m\u001b[0m \u001b[1m106s\u001b[0m 180ms/step - accuracy: 0.9867 - loss: 0.0394 - val_accuracy: 0.9949 - val_loss: 0.0135\n",
      "Epoch 15/200\n",
      "\u001b[1m586/586\u001b[0m \u001b[32m━━━━━━━━━━━━━━━━━━━━\u001b[0m\u001b[37m\u001b[0m \u001b[1m108s\u001b[0m 183ms/step - accuracy: 0.9877 - loss: 0.0355 - val_accuracy: 0.9270 - val_loss: 0.2087\n",
      "Epoch 16/200\n",
      "\u001b[1m586/586\u001b[0m \u001b[32m━━━━━━━━━━━━━━━━━━━━\u001b[0m\u001b[37m\u001b[0m \u001b[1m106s\u001b[0m 180ms/step - accuracy: 0.9876 - loss: 0.0380 - val_accuracy: 0.9514 - val_loss: 0.1345\n",
      "Epoch 17/200\n",
      "\u001b[1m586/586\u001b[0m \u001b[32m━━━━━━━━━━━━━━━━━━━━\u001b[0m\u001b[37m\u001b[0m \u001b[1m106s\u001b[0m 179ms/step - accuracy: 0.9875 - loss: 0.0375 - val_accuracy: 0.9738 - val_loss: 0.0855\n",
      "Epoch 18/200\n",
      "\u001b[1m586/586\u001b[0m \u001b[32m━━━━━━━━━━━━━━━━━━━━\u001b[0m\u001b[37m\u001b[0m \u001b[1m106s\u001b[0m 179ms/step - accuracy: 0.9873 - loss: 0.0391 - val_accuracy: 0.8854 - val_loss: 0.4830\n",
      "Epoch 19/200\n",
      "\u001b[1m586/586\u001b[0m \u001b[32m━━━━━━━━━━━━━━━━━━━━\u001b[0m\u001b[37m\u001b[0m \u001b[1m106s\u001b[0m 179ms/step - accuracy: 0.9888 - loss: 0.0359 - val_accuracy: 0.9635 - val_loss: 0.1176\n",
      "Epoch 20/200\n",
      "\u001b[1m586/586\u001b[0m \u001b[32m━━━━━━━━━━━━━━━━━━━━\u001b[0m\u001b[37m\u001b[0m \u001b[1m106s\u001b[0m 179ms/step - accuracy: 0.9899 - loss: 0.0312 - val_accuracy: 0.9776 - val_loss: 0.0684\n",
      "Epoch 21/200\n",
      "\u001b[1m586/586\u001b[0m \u001b[32m━━━━━━━━━━━━━━━━━━━━\u001b[0m\u001b[37m\u001b[0m \u001b[1m107s\u001b[0m 181ms/step - accuracy: 0.9901 - loss: 0.0314 - val_accuracy: 0.9875 - val_loss: 0.0337\n",
      "Epoch 22/200\n",
      "\u001b[1m586/586\u001b[0m \u001b[32m━━━━━━━━━━━━━━━━━━━━\u001b[0m\u001b[37m\u001b[0m \u001b[1m105s\u001b[0m 179ms/step - accuracy: 0.9902 - loss: 0.0288 - val_accuracy: 0.9949 - val_loss: 0.0127\n",
      "Epoch 23/200\n",
      "\u001b[1m586/586\u001b[0m \u001b[32m━━━━━━━━━━━━━━━━━━━━\u001b[0m\u001b[37m\u001b[0m \u001b[1m106s\u001b[0m 180ms/step - accuracy: 0.9880 - loss: 0.0370 - val_accuracy: 0.9926 - val_loss: 0.0273\n",
      "Epoch 24/200\n",
      "\u001b[1m586/586\u001b[0m \u001b[32m━━━━━━━━━━━━━━━━━━━━\u001b[0m\u001b[37m\u001b[0m \u001b[1m106s\u001b[0m 179ms/step - accuracy: 0.9911 - loss: 0.0256 - val_accuracy: 0.8147 - val_loss: 0.8225\n",
      "Epoch 25/200\n",
      "\u001b[1m586/586\u001b[0m \u001b[32m━━━━━━━━━━━━━━━━━━━━\u001b[0m\u001b[37m\u001b[0m \u001b[1m106s\u001b[0m 180ms/step - accuracy: 0.9894 - loss: 0.0354 - val_accuracy: 0.9923 - val_loss: 0.0215\n",
      "Epoch 26/200\n",
      "\u001b[1m586/586\u001b[0m \u001b[32m━━━━━━━━━━━━━━━━━━━━\u001b[0m\u001b[37m\u001b[0m \u001b[1m106s\u001b[0m 180ms/step - accuracy: 0.9909 - loss: 0.0290 - val_accuracy: 0.9856 - val_loss: 0.0359\n",
      "Epoch 27/200\n",
      "\u001b[1m586/586\u001b[0m \u001b[32m━━━━━━━━━━━━━━━━━━━━\u001b[0m\u001b[37m\u001b[0m \u001b[1m106s\u001b[0m 180ms/step - accuracy: 0.9912 - loss: 0.0235 - val_accuracy: 0.9926 - val_loss: 0.0252\n",
      "Epoch 28/200\n",
      "\u001b[1m586/586\u001b[0m \u001b[32m━━━━━━━━━━━━━━━━━━━━\u001b[0m\u001b[37m\u001b[0m \u001b[1m105s\u001b[0m 179ms/step - accuracy: 0.9921 - loss: 0.0240 - val_accuracy: 0.9949 - val_loss: 0.0141\n",
      "Epoch 29/200\n",
      "\u001b[1m586/586\u001b[0m \u001b[32m━━━━━━━━━━━━━━━━━━━━\u001b[0m\u001b[37m\u001b[0m \u001b[1m106s\u001b[0m 180ms/step - accuracy: 0.9934 - loss: 0.0212 - val_accuracy: 0.9533 - val_loss: 0.1624\n"
     ]
    }
   ],
   "source": [
    "history = best_model.fit(\n",
    "    train,\n",
    "    epochs=200,\n",
    "    validation_data=val,\n",
    "    callbacks=[early_stopping])"
   ]
  },
  {
   "cell_type": "markdown",
   "metadata": {},
   "source": [
    "---\n",
    "\n",
    "Plot Learning Curve\n",
    "\n",
    "---"
   ]
  },
  {
   "cell_type": "code",
   "execution_count": 17,
   "metadata": {},
   "outputs": [
    {
     "data": {
      "image/png": "[encoded data removed]",
      "text/plain": [
       "<Figure size 1200x400 with 1 Axes>"
      ]
     },
     "metadata": {},
     "output_type": "display_data"
    }
   ],
   "source": [
    "plt.figure(figsize=(12, 4))\n",
    "plt.plot(history.history['accuracy'], label='train accuracy')\n",
    "plt.plot(history.history['val_accuracy'], label='val accuracy')\n",
    "plt.title('Accuracy')\n",
    "plt.xlabel('Epochs')\n",
    "plt.ylabel('Accuracy')\n",
    "plt.legend()\n",
    "\n",
    "plt.show()"
   ]
  },
  {
   "cell_type": "markdown",
   "metadata": {},
   "source": [
    "---\n",
    "\n",
    "Obtain model metrics\n",
    "\n",
    "---"
   ]
  },
  {
   "cell_type": "code",
   "execution_count": 18,
   "metadata": {},
   "outputs": [
    {
     "name": "stdout",
     "output_type": "stream",
     "text": [
      "\u001b[1m98/98\u001b[0m \u001b[32m━━━━━━━━━━━━━━━━━━━━\u001b[0m\u001b[37m\u001b[0m \u001b[1m31s\u001b[0m 314ms/step\n",
      "              precision    recall  f1-score   support\n",
      "\n",
      "           0       0.99      1.00      1.00       625\n",
      "           1       0.99      1.00      0.99       625\n",
      "           2       1.00      0.98      0.99       625\n",
      "           3       0.99      1.00      1.00       625\n",
      "           4       1.00      1.00      1.00       625\n",
      "\n",
      "    accuracy                           0.99      3125\n",
      "   macro avg       0.99      0.99      0.99      3125\n",
      "weighted avg       0.99      0.99      0.99      3125\n",
      "\n"
     ]
    }
   ],
   "source": [
    "y_pred = best_model.predict(test, verbose=1)\n",
    "y_pred_classes = np.argmax(y_pred, axis=1)\n",
    "\n",
    "y_true = test.classes\n",
    "results = classification_report(y_true, y_pred_classes)\n",
    "print(results)\n"
   ]
  },
  {
   "cell_type": "markdown",
   "metadata": {},
   "source": [
    "---\n",
    "\n",
    "Obtain val Accuracy\n",
    "\n",
    "---"
   ]
  },
  {
   "cell_type": "code",
   "execution_count": null,
   "metadata": {},
   "outputs": [
    {
     "name": "stdout",
     "output_type": "stream",
     "text": [
      "\u001b[1m98/98\u001b[0m \u001b[32m━━━━━━━━━━━━━━━━━━━━\u001b[0m\u001b[37m\u001b[0m \u001b[1m6s\u001b[0m 66ms/step - accuracy: 0.9929 - loss: 0.0135\n",
      "Metrics: [0.9942399859428406]\n"
     ]
    }
   ],
   "source": [
    "results = best_model.evaluate(val, verbose=1)\n",
    "print(f\"Metrics: {results[1:]}\")"
   ]
  },
  {
   "cell_type": "markdown",
   "metadata": {},
   "source": [
    "---\n",
    "\n",
    "Save model\n",
    "\n",
    "---\n"
   ]
  },
  {
   "cell_type": "code",
   "execution_count": 20,
   "metadata": {},
   "outputs": [],
   "source": [
    "best_model.save('Pap Smear.keras')\n"
   ]
  }
 ],
 "metadata": {
  "kernelspec": {
   "display_name": "Python 3",
   "language": "python",
   "name": "python3"
  },
  "language_info": {
   "codemirror_mode": {
    "name": "ipython",
    "version": 3
   },
   "file_extension": ".py",
   "mimetype": "text/x-python",
   "name": "python",
   "nbconvert_exporter": "python",
   "pygments_lexer": "ipython3",
   "version": "3.10.9"
  }
 },
 "nbformat": 4,
 "nbformat_minor": 2
}
