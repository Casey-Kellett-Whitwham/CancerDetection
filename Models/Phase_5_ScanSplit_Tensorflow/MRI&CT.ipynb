{
 "cells": [
  {
   "cell_type": "markdown",
   "metadata": {},
   "source": [
    "\n",
    "### MRI AND CT SCAN MODEL\n",
    "\n"
   ]
  },
  {
   "cell_type": "markdown",
   "metadata": {},
   "source": [
    "---\n",
    "\n",
    "Imports \n",
    "\n",
    "---\n"
   ]
  },
  {
   "cell_type": "code",
   "execution_count": 12,
   "metadata": {},
   "outputs": [
    {
     "name": "stdout",
     "output_type": "stream",
     "text": [
      "2.19.0\n"
     ]
    }
   ],
   "source": [
    "import importlib\n",
    "import pipeline as pl\n",
    "importlib.reload(pl)\n",
    "import model as ml\n",
    "importlib.reload(ml)\n",
    "\n",
    "import os\n",
    "import pandas as pd\n",
    "import tensorflow as tf\n",
    "from tensorflow.keras.preprocessing.image import ImageDataGenerator\n",
    "from tensorflow.keras.models import Sequential\n",
    "from tensorflow.keras.layers import Conv2D, MaxPooling2D, Flatten, Dense, Dropout, BatchNormalization\n",
    "from tensorflow.keras.optimizers import Adam\n",
    "from tensorflow.keras.callbacks import EarlyStopping\n",
    "import numpy as np\n",
    "from sklearn.model_selection import train_test_split\n",
    "from sklearn.preprocessing import LabelEncoder\n",
    "from sklearn.metrics import classification_report\n",
    "from tensorflow.keras import layers\n",
    "import matplotlib.pyplot as plt\n",
    "import keras_tuner\n",
    "from kerastuner.tuners import Hyperband\n",
    "\n",
    "import tensorflow as tf\n",
    "from tensorflow import keras\n",
    "from tensorflow.keras import layers\n",
    "\n",
    "print(tf.__version__)"
   ]
  },
  {
   "cell_type": "markdown",
   "metadata": {},
   "source": [
    "---\n",
    "\n",
    "Load Augmented data from pipeline\n",
    "\n",
    "---"
   ]
  },
  {
   "cell_type": "code",
   "execution_count": 13,
   "metadata": {},
   "outputs": [
    {
     "name": "stdout",
     "output_type": "stream",
     "text": [
      "Found 18750 validated image filenames belonging to 5 classes.\n",
      "Found 3125 validated image filenames belonging to 5 classes.\n",
      "Found 3125 validated image filenames belonging to 5 classes.\n"
     ]
    }
   ],
   "source": [
    "csv_path = \"MRI and CT.csv\"\n",
    "train, test,val = pl.loadprocesseddata(csv_path)"
   ]
  },
  {
   "cell_type": "markdown",
   "metadata": {},
   "source": [
    "---\n",
    "\n",
    "Build Model\n",
    "\n",
    "---"
   ]
  },
  {
   "cell_type": "code",
   "execution_count": 14,
   "metadata": {},
   "outputs": [],
   "source": [
    "def build_cnn_model(hp, n_classes=5):\n",
    "    activation = hp.Choice(\"activation\", values=[\"relu\", \"tanh\", \"elu\"])\n",
    "    n_conv_layers = hp.Int(\"n_conv_layers\", min_value=2, max_value=5, step=1)\n",
    "    n_filters = hp.Int(\"n_filters\", min_value=8, max_value=64, step=8)\n",
    "    \n",
    "    kernel_size_val = hp.Choice(\"kernel_size\", values=[3, 5])\n",
    "    pool_size_val = hp.Choice(\"pool_size\", values=[2, 3])\n",
    "    \n",
    "    learning_rate = hp.Float(\"learning_rate\", min_value=1e-5, max_value=1e-2, sampling=\"log\")\n",
    "    decay_steps = hp.Int(\"decay_steps\", min_value=1000, max_value=10000, step=1000)\n",
    "    decay_rate = hp.Float(\"decay_rate\", min_value=0.9, max_value=0.999, step=0.001)\n",
    "    dropout_rate = hp.Float(\"dropout_rate\", min_value=0.2, max_value=0.5, step=0.1)\n",
    "    batch_norm = hp.Choice(\"batch_norm\", values=[True, False])\n",
    "    optimizer_choice = hp.Choice(\"optimizer\", values=[\"sgd\", \"RMSprop\", \"adam\", \"AdamW\"])\n",
    "    \n",
    "    expon_dec = keras.optimizers.schedules.ExponentialDecay(\n",
    "        initial_learning_rate=learning_rate,\n",
    "        decay_steps=decay_steps,\n",
    "        decay_rate=decay_rate\n",
    "    )\n",
    "    if optimizer_choice == \"sgd\":\n",
    "        optimizer = keras.optimizers.SGD(learning_rate=expon_dec)\n",
    "    elif optimizer_choice == \"RMSprop\":\n",
    "        optimizer = keras.optimizers.RMSprop(learning_rate=expon_dec)\n",
    "    else:\n",
    "        optimizer = keras.optimizers.Adam(learning_rate=expon_dec)\n",
    "    \n",
    "    model = keras.Sequential()\n",
    "    \n",
    "    model.add(layers.Conv2D(\n",
    "        filters=n_filters,\n",
    "        kernel_size=(kernel_size_val, kernel_size_val),\n",
    "        activation=activation,\n",
    "        input_shape=(64, 64, 3),\n",
    "        padding='same'\n",
    "    ))\n",
    "    if batch_norm:\n",
    "        model.add(layers.BatchNormalization())\n",
    "    model.add(layers.MaxPooling2D(pool_size=(pool_size_val, pool_size_val)))\n",
    "    \n",
    "    for i in range(n_conv_layers - 1):\n",
    "        model.add(layers.Conv2D(\n",
    "            filters=n_filters * (2**i),\n",
    "            kernel_size=(kernel_size_val, kernel_size_val),\n",
    "            activation=activation,\n",
    "            padding='same'\n",
    "        ))\n",
    "        if batch_norm:\n",
    "            model.add(layers.BatchNormalization())\n",
    "        model.add(layers.MaxPooling2D(pool_size=(pool_size_val, pool_size_val)))\n",
    "        model.add(layers.Dropout(dropout_rate))\n",
    "\n",
    "    model.add(layers.GlobalAveragePooling2D())\n",
    "    \n",
    "    n_dense_units = hp.Int(\"n_dense_units\", min_value=32, max_value=256, step=32)\n",
    "    model.add(layers.Dense(units=n_dense_units, activation=activation))\n",
    "    if batch_norm:\n",
    "        model.add(layers.BatchNormalization())\n",
    "    model.add(layers.Dropout(dropout_rate))\n",
    "    \n",
    "    model.add(layers.Dense(n_classes, activation=\"softmax\"))\n",
    "    \n",
    "    model.compile(loss=\"categorical_crossentropy\", optimizer=optimizer, metrics=[\"accuracy\"])\n",
    "    \n",
    "    return model\n"
   ]
  },
  {
   "cell_type": "markdown",
   "metadata": {},
   "source": [
    "---\n",
    "\n",
    "Hyperband Search\n",
    "\n",
    "---"
   ]
  },
  {
   "cell_type": "code",
   "execution_count": 15,
   "metadata": {},
   "outputs": [
    {
     "name": "stdout",
     "output_type": "stream",
     "text": [
      "Reloading Tuner from hyperbanding-ScanTypes\\MRI&CT\\tuner0.json\n"
     ]
    }
   ],
   "source": [
    "tuner = Hyperband(\n",
    "    lambda hp: build_cnn_model(hp),\n",
    "    objective='val_accuracy',\n",
    "    max_epochs=15,\n",
    "    factor=3,\n",
    "    directory='hyperbanding-ScanTypes',\n",
    "    project_name='MRI&CT')"
   ]
  },
  {
   "cell_type": "code",
   "execution_count": 19,
   "metadata": {},
   "outputs": [
    {
     "name": "stdout",
     "output_type": "stream",
     "text": [
      "Trial 21 Complete [00h 07m 21s]\n",
      "val_accuracy: 0.8540800213813782\n",
      "\n",
      "Best val_accuracy So Far: 0.8550400137901306\n",
      "Total elapsed time: 3d 09h 50m 00s\n"
     ]
    }
   ],
   "source": [
    "tuner.search(train, epochs=10, validation_data=val)"
   ]
  },
  {
   "cell_type": "code",
   "execution_count": 16,
   "metadata": {},
   "outputs": [
    {
     "name": "stderr",
     "output_type": "stream",
     "text": [
      "c:\\Users\\ckell\\AppData\\Local\\Programs\\Python\\Python310\\lib\\site-packages\\keras\\src\\layers\\convolutional\\base_conv.py:107: UserWarning: Do not pass an `input_shape`/`input_dim` argument to a layer. When using Sequential models, prefer using an `Input(shape)` object as the first layer in the model instead.\n",
      "  super().__init__(activity_regularizer=activity_regularizer, **kwargs)\n",
      "c:\\Users\\ckell\\AppData\\Local\\Programs\\Python\\Python310\\lib\\site-packages\\keras\\src\\saving\\saving_lib.py:713: UserWarning: Skipping variable loading for optimizer 'adam', because it has 1 variables whereas the saved optimizer has 21 variables. \n",
      "  saveable.load_own_variables(weights_store.get(inner_path))\n"
     ]
    }
   ],
   "source": [
    "best_model = tuner.get_best_models(num_models=1)[0]"
   ]
  },
  {
   "cell_type": "markdown",
   "metadata": {},
   "source": [
    "---\n",
    "\n",
    "Train Best Model\n",
    "\n",
    "---"
   ]
  },
  {
   "cell_type": "code",
   "execution_count": 17,
   "metadata": {},
   "outputs": [],
   "source": [
    "early_stopping = EarlyStopping(\n",
    "    monitor='val_accuracy',\n",
    "    patience=35,\n",
    "    restore_best_weights=True)"
   ]
  },
  {
   "cell_type": "code",
   "execution_count": 20,
   "metadata": {},
   "outputs": [
    {
     "name": "stdout",
     "output_type": "stream",
     "text": [
      "Epoch 1/200\n",
      "\u001b[1m586/586\u001b[0m \u001b[32m━━━━━━━━━━━━━━━━━━━━\u001b[0m\u001b[37m\u001b[0m \u001b[1m65s\u001b[0m 109ms/step - accuracy: 0.7995 - loss: 0.4892 - val_accuracy: 0.8758 - val_loss: 0.3281\n",
      "Epoch 2/200\n",
      "\u001b[1m586/586\u001b[0m \u001b[32m━━━━━━━━━━━━━━━━━━━━\u001b[0m\u001b[37m\u001b[0m \u001b[1m60s\u001b[0m 101ms/step - accuracy: 0.8320 - loss: 0.4190 - val_accuracy: 0.8755 - val_loss: 0.3329\n",
      "Epoch 3/200\n",
      "\u001b[1m586/586\u001b[0m \u001b[32m━━━━━━━━━━━━━━━━━━━━\u001b[0m\u001b[37m\u001b[0m \u001b[1m59s\u001b[0m 100ms/step - accuracy: 0.8420 - loss: 0.3961 - val_accuracy: 0.8563 - val_loss: 0.3674\n",
      "Epoch 4/200\n",
      "\u001b[1m586/586\u001b[0m \u001b[32m━━━━━━━━━━━━━━━━━━━━\u001b[0m\u001b[37m\u001b[0m \u001b[1m69s\u001b[0m 117ms/step - accuracy: 0.8500 - loss: 0.3883 - val_accuracy: 0.8758 - val_loss: 0.3255\n",
      "Epoch 5/200\n",
      "\u001b[1m586/586\u001b[0m \u001b[32m━━━━━━━━━━━━━━━━━━━━\u001b[0m\u001b[37m\u001b[0m \u001b[1m70s\u001b[0m 118ms/step - accuracy: 0.8514 - loss: 0.3761 - val_accuracy: 0.8925 - val_loss: 0.2850\n",
      "Epoch 6/200\n",
      "\u001b[1m586/586\u001b[0m \u001b[32m━━━━━━━━━━━━━━━━━━━━\u001b[0m\u001b[37m\u001b[0m \u001b[1m76s\u001b[0m 128ms/step - accuracy: 0.8561 - loss: 0.3633 - val_accuracy: 0.8733 - val_loss: 0.4349\n",
      "Epoch 7/200\n",
      "\u001b[1m586/586\u001b[0m \u001b[32m━━━━━━━━━━━━━━━━━━━━\u001b[0m\u001b[37m\u001b[0m \u001b[1m77s\u001b[0m 130ms/step - accuracy: 0.8597 - loss: 0.3532 - val_accuracy: 0.8819 - val_loss: 0.3883\n",
      "Epoch 8/200\n",
      "\u001b[1m586/586\u001b[0m \u001b[32m━━━━━━━━━━━━━━━━━━━━\u001b[0m\u001b[37m\u001b[0m \u001b[1m75s\u001b[0m 126ms/step - accuracy: 0.8635 - loss: 0.3498 - val_accuracy: 0.8864 - val_loss: 0.3101\n",
      "Epoch 9/200\n",
      "\u001b[1m586/586\u001b[0m \u001b[32m━━━━━━━━━━━━━━━━━━━━\u001b[0m\u001b[37m\u001b[0m \u001b[1m76s\u001b[0m 128ms/step - accuracy: 0.8661 - loss: 0.3451 - val_accuracy: 0.8506 - val_loss: 0.4044\n",
      "Epoch 10/200\n",
      "\u001b[1m586/586\u001b[0m \u001b[32m━━━━━━━━━━━━━━━━━━━━\u001b[0m\u001b[37m\u001b[0m \u001b[1m74s\u001b[0m 125ms/step - accuracy: 0.8748 - loss: 0.3334 - val_accuracy: 0.8944 - val_loss: 0.2662\n",
      "Epoch 11/200\n",
      "\u001b[1m586/586\u001b[0m \u001b[32m━━━━━━━━━━━━━━━━━━━━\u001b[0m\u001b[37m\u001b[0m \u001b[1m75s\u001b[0m 126ms/step - accuracy: 0.8723 - loss: 0.3281 - val_accuracy: 0.8662 - val_loss: 0.4547\n",
      "Epoch 12/200\n",
      "\u001b[1m586/586\u001b[0m \u001b[32m━━━━━━━━━━━━━━━━━━━━\u001b[0m\u001b[37m\u001b[0m \u001b[1m75s\u001b[0m 127ms/step - accuracy: 0.8764 - loss: 0.3283 - val_accuracy: 0.8592 - val_loss: 0.3849\n",
      "Epoch 13/200\n",
      "\u001b[1m586/586\u001b[0m \u001b[32m━━━━━━━━━━━━━━━━━━━━\u001b[0m\u001b[37m\u001b[0m \u001b[1m75s\u001b[0m 127ms/step - accuracy: 0.8784 - loss: 0.3183 - val_accuracy: 0.8483 - val_loss: 0.3947\n",
      "Epoch 14/200\n",
      "\u001b[1m586/586\u001b[0m \u001b[32m━━━━━━━━━━━━━━━━━━━━\u001b[0m\u001b[37m\u001b[0m \u001b[1m75s\u001b[0m 126ms/step - accuracy: 0.8809 - loss: 0.3149 - val_accuracy: 0.8870 - val_loss: 0.3153\n",
      "Epoch 15/200\n",
      "\u001b[1m586/586\u001b[0m \u001b[32m━━━━━━━━━━━━━━━━━━━━\u001b[0m\u001b[37m\u001b[0m \u001b[1m76s\u001b[0m 128ms/step - accuracy: 0.8878 - loss: 0.3001 - val_accuracy: 0.8867 - val_loss: 0.3467\n",
      "Epoch 16/200\n",
      "\u001b[1m586/586\u001b[0m \u001b[32m━━━━━━━━━━━━━━━━━━━━\u001b[0m\u001b[37m\u001b[0m \u001b[1m79s\u001b[0m 133ms/step - accuracy: 0.8925 - loss: 0.2826 - val_accuracy: 0.8899 - val_loss: 0.2750\n",
      "Epoch 17/200\n",
      "\u001b[1m586/586\u001b[0m \u001b[32m━━━━━━━━━━━━━━━━━━━━\u001b[0m\u001b[37m\u001b[0m \u001b[1m78s\u001b[0m 132ms/step - accuracy: 0.8912 - loss: 0.2858 - val_accuracy: 0.8678 - val_loss: 0.3733\n",
      "Epoch 18/200\n",
      "\u001b[1m586/586\u001b[0m \u001b[32m━━━━━━━━━━━━━━━━━━━━\u001b[0m\u001b[37m\u001b[0m \u001b[1m77s\u001b[0m 130ms/step - accuracy: 0.8914 - loss: 0.2894 - val_accuracy: 0.8784 - val_loss: 0.3535\n",
      "Epoch 19/200\n",
      "\u001b[1m586/586\u001b[0m \u001b[32m━━━━━━━━━━━━━━━━━━━━\u001b[0m\u001b[37m\u001b[0m \u001b[1m73s\u001b[0m 124ms/step - accuracy: 0.8974 - loss: 0.2699 - val_accuracy: 0.9293 - val_loss: 0.1995\n",
      "Epoch 20/200\n",
      "\u001b[1m586/586\u001b[0m \u001b[32m━━━━━━━━━━━━━━━━━━━━\u001b[0m\u001b[37m\u001b[0m \u001b[1m212s\u001b[0m 361ms/step - accuracy: 0.9017 - loss: 0.2677 - val_accuracy: 0.9171 - val_loss: 0.2329\n",
      "Epoch 21/200\n",
      "\u001b[1m586/586\u001b[0m \u001b[32m━━━━━━━━━━━━━━━━━━━━\u001b[0m\u001b[37m\u001b[0m \u001b[1m99s\u001b[0m 168ms/step - accuracy: 0.9041 - loss: 0.2517 - val_accuracy: 0.9245 - val_loss: 0.2195\n",
      "Epoch 22/200\n",
      "\u001b[1m586/586\u001b[0m \u001b[32m━━━━━━━━━━━━━━━━━━━━\u001b[0m\u001b[37m\u001b[0m \u001b[1m86s\u001b[0m 145ms/step - accuracy: 0.9008 - loss: 0.2750 - val_accuracy: 0.9283 - val_loss: 0.1999\n",
      "Epoch 23/200\n",
      "\u001b[1m586/586\u001b[0m \u001b[32m━━━━━━━━━━━━━━━━━━━━\u001b[0m\u001b[37m\u001b[0m \u001b[1m84s\u001b[0m 141ms/step - accuracy: 0.8971 - loss: 0.2669 - val_accuracy: 0.8838 - val_loss: 0.4450\n",
      "Epoch 24/200\n",
      "\u001b[1m586/586\u001b[0m \u001b[32m━━━━━━━━━━━━━━━━━━━━\u001b[0m\u001b[37m\u001b[0m \u001b[1m85s\u001b[0m 144ms/step - accuracy: 0.9028 - loss: 0.2611 - val_accuracy: 0.9107 - val_loss: 0.2473\n",
      "Epoch 25/200\n",
      "\u001b[1m586/586\u001b[0m \u001b[32m━━━━━━━━━━━━━━━━━━━━\u001b[0m\u001b[37m\u001b[0m \u001b[1m87s\u001b[0m 146ms/step - accuracy: 0.9058 - loss: 0.2528 - val_accuracy: 0.8938 - val_loss: 0.3015\n",
      "Epoch 26/200\n",
      "\u001b[1m586/586\u001b[0m \u001b[32m━━━━━━━━━━━━━━━━━━━━\u001b[0m\u001b[37m\u001b[0m \u001b[1m85s\u001b[0m 144ms/step - accuracy: 0.9074 - loss: 0.2471 - val_accuracy: 0.9171 - val_loss: 0.2006\n",
      "Epoch 27/200\n",
      "\u001b[1m586/586\u001b[0m \u001b[32m━━━━━━━━━━━━━━━━━━━━\u001b[0m\u001b[37m\u001b[0m \u001b[1m85s\u001b[0m 144ms/step - accuracy: 0.9122 - loss: 0.2394 - val_accuracy: 0.9053 - val_loss: 0.2592\n",
      "Epoch 28/200\n",
      "\u001b[1m586/586\u001b[0m \u001b[32m━━━━━━━━━━━━━━━━━━━━\u001b[0m\u001b[37m\u001b[0m \u001b[1m83s\u001b[0m 140ms/step - accuracy: 0.9105 - loss: 0.2493 - val_accuracy: 0.9027 - val_loss: 0.2537\n",
      "Epoch 29/200\n",
      "\u001b[1m586/586\u001b[0m \u001b[32m━━━━━━━━━━━━━━━━━━━━\u001b[0m\u001b[37m\u001b[0m \u001b[1m74s\u001b[0m 125ms/step - accuracy: 0.9134 - loss: 0.2320 - val_accuracy: 0.9366 - val_loss: 0.1741\n",
      "Epoch 30/200\n",
      "\u001b[1m586/586\u001b[0m \u001b[32m━━━━━━━━━━━━━━━━━━━━\u001b[0m\u001b[37m\u001b[0m \u001b[1m57s\u001b[0m 96ms/step - accuracy: 0.9114 - loss: 0.2377 - val_accuracy: 0.8726 - val_loss: 0.4254\n",
      "Epoch 31/200\n",
      "\u001b[1m586/586\u001b[0m \u001b[32m━━━━━━━━━━━━━━━━━━━━\u001b[0m\u001b[37m\u001b[0m \u001b[1m58s\u001b[0m 98ms/step - accuracy: 0.9060 - loss: 0.2506 - val_accuracy: 0.8931 - val_loss: 0.2816\n",
      "Epoch 32/200\n",
      "\u001b[1m586/586\u001b[0m \u001b[32m━━━━━━━━━━━━━━━━━━━━\u001b[0m\u001b[37m\u001b[0m \u001b[1m57s\u001b[0m 97ms/step - accuracy: 0.9159 - loss: 0.2375 - val_accuracy: 0.9069 - val_loss: 0.2545\n",
      "Epoch 33/200\n",
      "\u001b[1m586/586\u001b[0m \u001b[32m━━━━━━━━━━━━━━━━━━━━\u001b[0m\u001b[37m\u001b[0m \u001b[1m57s\u001b[0m 97ms/step - accuracy: 0.9199 - loss: 0.2152 - val_accuracy: 0.9066 - val_loss: 0.2644\n",
      "Epoch 34/200\n",
      "\u001b[1m586/586\u001b[0m \u001b[32m━━━━━━━━━━━━━━━━━━━━\u001b[0m\u001b[37m\u001b[0m \u001b[1m58s\u001b[0m 98ms/step - accuracy: 0.9113 - loss: 0.2366 - val_accuracy: 0.9341 - val_loss: 0.2124\n",
      "Epoch 35/200\n",
      "\u001b[1m586/586\u001b[0m \u001b[32m━━━━━━━━━━━━━━━━━━━━\u001b[0m\u001b[37m\u001b[0m \u001b[1m60s\u001b[0m 101ms/step - accuracy: 0.9180 - loss: 0.2249 - val_accuracy: 0.9037 - val_loss: 0.3565\n",
      "Epoch 36/200\n",
      "\u001b[1m586/586\u001b[0m \u001b[32m━━━━━━━━━━━━━━━━━━━━\u001b[0m\u001b[37m\u001b[0m \u001b[1m58s\u001b[0m 99ms/step - accuracy: 0.9232 - loss: 0.2088 - val_accuracy: 0.9530 - val_loss: 0.1504\n",
      "Epoch 37/200\n",
      "\u001b[1m586/586\u001b[0m \u001b[32m━━━━━━━━━━━━━━━━━━━━\u001b[0m\u001b[37m\u001b[0m \u001b[1m58s\u001b[0m 98ms/step - accuracy: 0.9212 - loss: 0.2177 - val_accuracy: 0.9258 - val_loss: 0.2137\n",
      "Epoch 38/200\n",
      "\u001b[1m586/586\u001b[0m \u001b[32m━━━━━━━━━━━━━━━━━━━━\u001b[0m\u001b[37m\u001b[0m \u001b[1m58s\u001b[0m 98ms/step - accuracy: 0.9191 - loss: 0.2219 - val_accuracy: 0.9357 - val_loss: 0.1595\n",
      "Epoch 39/200\n",
      "\u001b[1m586/586\u001b[0m \u001b[32m━━━━━━━━━━━━━━━━━━━━\u001b[0m\u001b[37m\u001b[0m \u001b[1m58s\u001b[0m 98ms/step - accuracy: 0.9241 - loss: 0.2132 - val_accuracy: 0.9139 - val_loss: 0.2736\n",
      "Epoch 40/200\n",
      "\u001b[1m586/586\u001b[0m \u001b[32m━━━━━━━━━━━━━━━━━━━━\u001b[0m\u001b[37m\u001b[0m \u001b[1m58s\u001b[0m 98ms/step - accuracy: 0.9238 - loss: 0.2092 - val_accuracy: 0.9424 - val_loss: 0.1654\n",
      "Epoch 41/200\n",
      "\u001b[1m586/586\u001b[0m \u001b[32m━━━━━━━━━━━━━━━━━━━━\u001b[0m\u001b[37m\u001b[0m \u001b[1m59s\u001b[0m 100ms/step - accuracy: 0.9271 - loss: 0.2052 - val_accuracy: 0.8941 - val_loss: 0.4039\n",
      "Epoch 42/200\n",
      "\u001b[1m586/586\u001b[0m \u001b[32m━━━━━━━━━━━━━━━━━━━━\u001b[0m\u001b[37m\u001b[0m \u001b[1m58s\u001b[0m 99ms/step - accuracy: 0.9222 - loss: 0.2175 - val_accuracy: 0.9203 - val_loss: 0.2154\n",
      "Epoch 43/200\n",
      "\u001b[1m586/586\u001b[0m \u001b[32m━━━━━━━━━━━━━━━━━━━━\u001b[0m\u001b[37m\u001b[0m \u001b[1m59s\u001b[0m 99ms/step - accuracy: 0.9176 - loss: 0.2214 - val_accuracy: 0.8989 - val_loss: 0.3406\n",
      "Epoch 44/200\n",
      "\u001b[1m586/586\u001b[0m \u001b[32m━━━━━━━━━━━━━━━━━━━━\u001b[0m\u001b[37m\u001b[0m \u001b[1m58s\u001b[0m 98ms/step - accuracy: 0.9276 - loss: 0.2019 - val_accuracy: 0.9034 - val_loss: 0.2528\n",
      "Epoch 45/200\n",
      "\u001b[1m586/586\u001b[0m \u001b[32m━━━━━━━━━━━━━━━━━━━━\u001b[0m\u001b[37m\u001b[0m \u001b[1m58s\u001b[0m 98ms/step - accuracy: 0.9256 - loss: 0.2103 - val_accuracy: 0.9242 - val_loss: 0.2260\n",
      "Epoch 46/200\n",
      "\u001b[1m586/586\u001b[0m \u001b[32m━━━━━━━━━━━━━━━━━━━━\u001b[0m\u001b[37m\u001b[0m \u001b[1m59s\u001b[0m 99ms/step - accuracy: 0.9229 - loss: 0.2069 - val_accuracy: 0.9347 - val_loss: 0.1840\n",
      "Epoch 47/200\n",
      "\u001b[1m586/586\u001b[0m \u001b[32m━━━━━━━━━━━━━━━━━━━━\u001b[0m\u001b[37m\u001b[0m \u001b[1m55s\u001b[0m 93ms/step - accuracy: 0.9273 - loss: 0.2004 - val_accuracy: 0.9363 - val_loss: 0.1819\n",
      "Epoch 48/200\n",
      "\u001b[1m586/586\u001b[0m \u001b[32m━━━━━━━━━━━━━━━━━━━━\u001b[0m\u001b[37m\u001b[0m \u001b[1m56s\u001b[0m 95ms/step - accuracy: 0.9240 - loss: 0.2085 - val_accuracy: 0.9286 - val_loss: 0.2049\n",
      "Epoch 49/200\n",
      "\u001b[1m586/586\u001b[0m \u001b[32m━━━━━━━━━━━━━━━━━━━━\u001b[0m\u001b[37m\u001b[0m \u001b[1m56s\u001b[0m 95ms/step - accuracy: 0.9253 - loss: 0.2015 - val_accuracy: 0.9002 - val_loss: 0.3058\n",
      "Epoch 50/200\n",
      "\u001b[1m586/586\u001b[0m \u001b[32m━━━━━━━━━━━━━━━━━━━━\u001b[0m\u001b[37m\u001b[0m \u001b[1m65s\u001b[0m 109ms/step - accuracy: 0.9320 - loss: 0.1959 - val_accuracy: 0.9046 - val_loss: 0.2843\n",
      "Epoch 51/200\n",
      "\u001b[1m586/586\u001b[0m \u001b[32m━━━━━━━━━━━━━━━━━━━━\u001b[0m\u001b[37m\u001b[0m \u001b[1m63s\u001b[0m 106ms/step - accuracy: 0.9281 - loss: 0.2020 - val_accuracy: 0.9472 - val_loss: 0.1545\n",
      "Epoch 52/200\n",
      "\u001b[1m586/586\u001b[0m \u001b[32m━━━━━━━━━━━━━━━━━━━━\u001b[0m\u001b[37m\u001b[0m \u001b[1m63s\u001b[0m 107ms/step - accuracy: 0.9343 - loss: 0.1853 - val_accuracy: 0.9421 - val_loss: 0.1548\n",
      "Epoch 53/200\n",
      "\u001b[1m586/586\u001b[0m \u001b[32m━━━━━━━━━━━━━━━━━━━━\u001b[0m\u001b[37m\u001b[0m \u001b[1m62s\u001b[0m 104ms/step - accuracy: 0.9288 - loss: 0.1910 - val_accuracy: 0.9264 - val_loss: 0.2259\n",
      "Epoch 54/200\n",
      "\u001b[1m586/586\u001b[0m \u001b[32m━━━━━━━━━━━━━━━━━━━━\u001b[0m\u001b[37m\u001b[0m \u001b[1m61s\u001b[0m 103ms/step - accuracy: 0.9298 - loss: 0.1887 - val_accuracy: 0.9558 - val_loss: 0.1057\n",
      "Epoch 55/200\n",
      "\u001b[1m586/586\u001b[0m \u001b[32m━━━━━━━━━━━━━━━━━━━━\u001b[0m\u001b[37m\u001b[0m \u001b[1m61s\u001b[0m 103ms/step - accuracy: 0.9281 - loss: 0.1935 - val_accuracy: 0.9187 - val_loss: 0.2150\n",
      "Epoch 56/200\n",
      "\u001b[1m586/586\u001b[0m \u001b[32m━━━━━━━━━━━━━━━━━━━━\u001b[0m\u001b[37m\u001b[0m \u001b[1m61s\u001b[0m 103ms/step - accuracy: 0.9329 - loss: 0.1932 - val_accuracy: 0.9475 - val_loss: 0.1569\n",
      "Epoch 57/200\n",
      "\u001b[1m586/586\u001b[0m \u001b[32m━━━━━━━━━━━━━━━━━━━━\u001b[0m\u001b[37m\u001b[0m \u001b[1m56s\u001b[0m 95ms/step - accuracy: 0.9358 - loss: 0.1755 - val_accuracy: 0.8963 - val_loss: 0.3800\n",
      "Epoch 58/200\n",
      "\u001b[1m586/586\u001b[0m \u001b[32m━━━━━━━━━━━━━━━━━━━━\u001b[0m\u001b[37m\u001b[0m \u001b[1m56s\u001b[0m 94ms/step - accuracy: 0.9378 - loss: 0.1754 - val_accuracy: 0.9517 - val_loss: 0.1406\n",
      "Epoch 59/200\n",
      "\u001b[1m586/586\u001b[0m \u001b[32m━━━━━━━━━━━━━━━━━━━━\u001b[0m\u001b[37m\u001b[0m \u001b[1m56s\u001b[0m 94ms/step - accuracy: 0.9302 - loss: 0.1907 - val_accuracy: 0.8816 - val_loss: 0.4921\n",
      "Epoch 60/200\n",
      "\u001b[1m586/586\u001b[0m \u001b[32m━━━━━━━━━━━━━━━━━━━━\u001b[0m\u001b[37m\u001b[0m \u001b[1m55s\u001b[0m 93ms/step - accuracy: 0.9329 - loss: 0.1861 - val_accuracy: 0.8902 - val_loss: 0.3700\n",
      "Epoch 61/200\n",
      "\u001b[1m586/586\u001b[0m \u001b[32m━━━━━━━━━━━━━━━━━━━━\u001b[0m\u001b[37m\u001b[0m \u001b[1m55s\u001b[0m 92ms/step - accuracy: 0.9365 - loss: 0.1729 - val_accuracy: 0.9146 - val_loss: 0.3586\n",
      "Epoch 62/200\n",
      "\u001b[1m586/586\u001b[0m \u001b[32m━━━━━━━━━━━━━━━━━━━━\u001b[0m\u001b[37m\u001b[0m \u001b[1m55s\u001b[0m 92ms/step - accuracy: 0.9344 - loss: 0.1789 - val_accuracy: 0.9450 - val_loss: 0.1775\n",
      "Epoch 63/200\n",
      "\u001b[1m586/586\u001b[0m \u001b[32m━━━━━━━━━━━━━━━━━━━━\u001b[0m\u001b[37m\u001b[0m \u001b[1m55s\u001b[0m 93ms/step - accuracy: 0.9380 - loss: 0.1691 - val_accuracy: 0.9402 - val_loss: 0.2070\n",
      "Epoch 64/200\n",
      "\u001b[1m586/586\u001b[0m \u001b[32m━━━━━━━━━━━━━━━━━━━━\u001b[0m\u001b[37m\u001b[0m \u001b[1m55s\u001b[0m 94ms/step - accuracy: 0.9370 - loss: 0.1729 - val_accuracy: 0.9219 - val_loss: 0.2510\n",
      "Epoch 65/200\n",
      "\u001b[1m586/586\u001b[0m \u001b[32m━━━━━━━━━━━━━━━━━━━━\u001b[0m\u001b[37m\u001b[0m \u001b[1m54s\u001b[0m 92ms/step - accuracy: 0.9379 - loss: 0.1664 - val_accuracy: 0.9491 - val_loss: 0.1800\n",
      "Epoch 66/200\n",
      "\u001b[1m586/586\u001b[0m \u001b[32m━━━━━━━━━━━━━━━━━━━━\u001b[0m\u001b[37m\u001b[0m \u001b[1m55s\u001b[0m 93ms/step - accuracy: 0.9433 - loss: 0.1616 - val_accuracy: 0.9293 - val_loss: 0.2105\n",
      "Epoch 67/200\n",
      "\u001b[1m586/586\u001b[0m \u001b[32m━━━━━━━━━━━━━━━━━━━━\u001b[0m\u001b[37m\u001b[0m \u001b[1m55s\u001b[0m 93ms/step - accuracy: 0.9442 - loss: 0.1580 - val_accuracy: 0.9472 - val_loss: 0.1778\n",
      "Epoch 68/200\n",
      "\u001b[1m586/586\u001b[0m \u001b[32m━━━━━━━━━━━━━━━━━━━━\u001b[0m\u001b[37m\u001b[0m \u001b[1m55s\u001b[0m 92ms/step - accuracy: 0.9375 - loss: 0.1764 - val_accuracy: 0.9373 - val_loss: 0.2096\n",
      "Epoch 69/200\n",
      "\u001b[1m586/586\u001b[0m \u001b[32m━━━━━━━━━━━━━━━━━━━━\u001b[0m\u001b[37m\u001b[0m \u001b[1m55s\u001b[0m 92ms/step - accuracy: 0.9368 - loss: 0.1798 - val_accuracy: 0.9350 - val_loss: 0.1692\n",
      "Epoch 70/200\n",
      "\u001b[1m586/586\u001b[0m \u001b[32m━━━━━━━━━━━━━━━━━━━━\u001b[0m\u001b[37m\u001b[0m \u001b[1m54s\u001b[0m 92ms/step - accuracy: 0.9404 - loss: 0.1599 - val_accuracy: 0.9530 - val_loss: 0.1471\n",
      "Epoch 71/200\n",
      "\u001b[1m586/586\u001b[0m \u001b[32m━━━━━━━━━━━━━━━━━━━━\u001b[0m\u001b[37m\u001b[0m \u001b[1m55s\u001b[0m 93ms/step - accuracy: 0.9433 - loss: 0.1608 - val_accuracy: 0.8963 - val_loss: 0.3578\n",
      "Epoch 72/200\n",
      "\u001b[1m586/586\u001b[0m \u001b[32m━━━━━━━━━━━━━━━━━━━━\u001b[0m\u001b[37m\u001b[0m \u001b[1m55s\u001b[0m 93ms/step - accuracy: 0.9410 - loss: 0.1691 - val_accuracy: 0.9549 - val_loss: 0.1395\n",
      "Epoch 73/200\n",
      "\u001b[1m586/586\u001b[0m \u001b[32m━━━━━━━━━━━━━━━━━━━━\u001b[0m\u001b[37m\u001b[0m \u001b[1m55s\u001b[0m 92ms/step - accuracy: 0.9405 - loss: 0.1716 - val_accuracy: 0.9251 - val_loss: 0.2652\n",
      "Epoch 74/200\n",
      "\u001b[1m586/586\u001b[0m \u001b[32m━━━━━━━━━━━━━━━━━━━━\u001b[0m\u001b[37m\u001b[0m \u001b[1m55s\u001b[0m 93ms/step - accuracy: 0.9437 - loss: 0.1613 - val_accuracy: 0.9507 - val_loss: 0.1594\n",
      "Epoch 75/200\n",
      "\u001b[1m586/586\u001b[0m \u001b[32m━━━━━━━━━━━━━━━━━━━━\u001b[0m\u001b[37m\u001b[0m \u001b[1m55s\u001b[0m 92ms/step - accuracy: 0.9432 - loss: 0.1574 - val_accuracy: 0.9174 - val_loss: 0.2667\n",
      "Epoch 76/200\n",
      "\u001b[1m586/586\u001b[0m \u001b[32m━━━━━━━━━━━━━━━━━━━━\u001b[0m\u001b[37m\u001b[0m \u001b[1m54s\u001b[0m 92ms/step - accuracy: 0.9391 - loss: 0.1786 - val_accuracy: 0.9270 - val_loss: 0.2067\n",
      "Epoch 77/200\n",
      "\u001b[1m586/586\u001b[0m \u001b[32m━━━━━━━━━━━━━━━━━━━━\u001b[0m\u001b[37m\u001b[0m \u001b[1m55s\u001b[0m 93ms/step - accuracy: 0.9438 - loss: 0.1563 - val_accuracy: 0.8810 - val_loss: 0.3953\n",
      "Epoch 78/200\n",
      "\u001b[1m586/586\u001b[0m \u001b[32m━━━━━━━━━━━━━━━━━━━━\u001b[0m\u001b[37m\u001b[0m \u001b[1m55s\u001b[0m 92ms/step - accuracy: 0.9413 - loss: 0.1679 - val_accuracy: 0.9226 - val_loss: 0.2397\n",
      "Epoch 79/200\n",
      "\u001b[1m586/586\u001b[0m \u001b[32m━━━━━━━━━━━━━━━━━━━━\u001b[0m\u001b[37m\u001b[0m \u001b[1m57s\u001b[0m 96ms/step - accuracy: 0.9435 - loss: 0.1535 - val_accuracy: 0.9286 - val_loss: 0.2447\n",
      "Epoch 80/200\n",
      "\u001b[1m586/586\u001b[0m \u001b[32m━━━━━━━━━━━━━━━━━━━━\u001b[0m\u001b[37m\u001b[0m \u001b[1m55s\u001b[0m 93ms/step - accuracy: 0.9433 - loss: 0.1568 - val_accuracy: 0.9331 - val_loss: 0.1962\n",
      "Epoch 81/200\n",
      "\u001b[1m586/586\u001b[0m \u001b[32m━━━━━━━━━━━━━━━━━━━━\u001b[0m\u001b[37m\u001b[0m \u001b[1m55s\u001b[0m 92ms/step - accuracy: 0.9452 - loss: 0.1483 - val_accuracy: 0.9283 - val_loss: 0.2085\n",
      "Epoch 82/200\n",
      "\u001b[1m586/586\u001b[0m \u001b[32m━━━━━━━━━━━━━━━━━━━━\u001b[0m\u001b[37m\u001b[0m \u001b[1m55s\u001b[0m 92ms/step - accuracy: 0.9454 - loss: 0.1609 - val_accuracy: 0.9142 - val_loss: 0.3388\n",
      "Epoch 83/200\n",
      "\u001b[1m586/586\u001b[0m \u001b[32m━━━━━━━━━━━━━━━━━━━━\u001b[0m\u001b[37m\u001b[0m \u001b[1m55s\u001b[0m 92ms/step - accuracy: 0.9507 - loss: 0.1400 - val_accuracy: 0.9290 - val_loss: 0.2227\n",
      "Epoch 84/200\n",
      "\u001b[1m586/586\u001b[0m \u001b[32m━━━━━━━━━━━━━━━━━━━━\u001b[0m\u001b[37m\u001b[0m \u001b[1m54s\u001b[0m 92ms/step - accuracy: 0.9470 - loss: 0.1497 - val_accuracy: 0.9398 - val_loss: 0.1647\n",
      "Epoch 85/200\n",
      "\u001b[1m586/586\u001b[0m \u001b[32m━━━━━━━━━━━━━━━━━━━━\u001b[0m\u001b[37m\u001b[0m \u001b[1m55s\u001b[0m 92ms/step - accuracy: 0.9473 - loss: 0.1489 - val_accuracy: 0.9472 - val_loss: 0.1627\n",
      "Epoch 86/200\n",
      "\u001b[1m586/586\u001b[0m \u001b[32m━━━━━━━━━━━━━━━━━━━━\u001b[0m\u001b[37m\u001b[0m \u001b[1m54s\u001b[0m 92ms/step - accuracy: 0.9439 - loss: 0.1530 - val_accuracy: 0.8995 - val_loss: 0.4267\n",
      "Epoch 87/200\n",
      "\u001b[1m586/586\u001b[0m \u001b[32m━━━━━━━━━━━━━━━━━━━━\u001b[0m\u001b[37m\u001b[0m \u001b[1m55s\u001b[0m 92ms/step - accuracy: 0.9457 - loss: 0.1479 - val_accuracy: 0.9632 - val_loss: 0.1074\n",
      "Epoch 88/200\n",
      "\u001b[1m586/586\u001b[0m \u001b[32m━━━━━━━━━━━━━━━━━━━━\u001b[0m\u001b[37m\u001b[0m \u001b[1m54s\u001b[0m 92ms/step - accuracy: 0.9466 - loss: 0.1466 - val_accuracy: 0.9488 - val_loss: 0.1864\n",
      "Epoch 89/200\n",
      "\u001b[1m586/586\u001b[0m \u001b[32m━━━━━━━━━━━━━━━━━━━━\u001b[0m\u001b[37m\u001b[0m \u001b[1m54s\u001b[0m 92ms/step - accuracy: 0.9498 - loss: 0.1389 - val_accuracy: 0.9443 - val_loss: 0.2276\n",
      "Epoch 90/200\n",
      "\u001b[1m586/586\u001b[0m \u001b[32m━━━━━━━━━━━━━━━━━━━━\u001b[0m\u001b[37m\u001b[0m \u001b[1m54s\u001b[0m 92ms/step - accuracy: 0.9478 - loss: 0.1497 - val_accuracy: 0.9219 - val_loss: 0.2588\n",
      "Epoch 91/200\n",
      "\u001b[1m586/586\u001b[0m \u001b[32m━━━━━━━━━━━━━━━━━━━━\u001b[0m\u001b[37m\u001b[0m \u001b[1m54s\u001b[0m 92ms/step - accuracy: 0.9472 - loss: 0.1457 - val_accuracy: 0.9152 - val_loss: 0.2937\n",
      "Epoch 92/200\n",
      "\u001b[1m586/586\u001b[0m \u001b[32m━━━━━━━━━━━━━━━━━━━━\u001b[0m\u001b[37m\u001b[0m \u001b[1m54s\u001b[0m 92ms/step - accuracy: 0.9452 - loss: 0.1477 - val_accuracy: 0.9322 - val_loss: 0.2605\n",
      "Epoch 93/200\n",
      "\u001b[1m586/586\u001b[0m \u001b[32m━━━━━━━━━━━━━━━━━━━━\u001b[0m\u001b[37m\u001b[0m \u001b[1m55s\u001b[0m 92ms/step - accuracy: 0.9473 - loss: 0.1439 - val_accuracy: 0.9549 - val_loss: 0.1293\n",
      "Epoch 94/200\n",
      "\u001b[1m586/586\u001b[0m \u001b[32m━━━━━━━━━━━━━━━━━━━━\u001b[0m\u001b[37m\u001b[0m \u001b[1m54s\u001b[0m 92ms/step - accuracy: 0.9500 - loss: 0.1374 - val_accuracy: 0.9510 - val_loss: 0.1456\n",
      "Epoch 95/200\n",
      "\u001b[1m586/586\u001b[0m \u001b[32m━━━━━━━━━━━━━━━━━━━━\u001b[0m\u001b[37m\u001b[0m \u001b[1m54s\u001b[0m 92ms/step - accuracy: 0.9476 - loss: 0.1527 - val_accuracy: 0.9389 - val_loss: 0.2502\n",
      "Epoch 96/200\n",
      "\u001b[1m586/586\u001b[0m \u001b[32m━━━━━━━━━━━━━━━━━━━━\u001b[0m\u001b[37m\u001b[0m \u001b[1m55s\u001b[0m 94ms/step - accuracy: 0.9497 - loss: 0.1453 - val_accuracy: 0.9434 - val_loss: 0.2435\n",
      "Epoch 97/200\n",
      "\u001b[1m586/586\u001b[0m \u001b[32m━━━━━━━━━━━━━━━━━━━━\u001b[0m\u001b[37m\u001b[0m \u001b[1m56s\u001b[0m 94ms/step - accuracy: 0.9490 - loss: 0.1455 - val_accuracy: 0.9395 - val_loss: 0.3059\n",
      "Epoch 98/200\n",
      "\u001b[1m586/586\u001b[0m \u001b[32m━━━━━━━━━━━━━━━━━━━━\u001b[0m\u001b[37m\u001b[0m \u001b[1m54s\u001b[0m 92ms/step - accuracy: 0.9519 - loss: 0.1364 - val_accuracy: 0.9158 - val_loss: 0.2769\n",
      "Epoch 99/200\n",
      "\u001b[1m586/586\u001b[0m \u001b[32m━━━━━━━━━━━━━━━━━━━━\u001b[0m\u001b[37m\u001b[0m \u001b[1m54s\u001b[0m 92ms/step - accuracy: 0.9532 - loss: 0.1333 - val_accuracy: 0.9181 - val_loss: 0.3896\n",
      "Epoch 100/200\n",
      "\u001b[1m586/586\u001b[0m \u001b[32m━━━━━━━━━━━━━━━━━━━━\u001b[0m\u001b[37m\u001b[0m \u001b[1m55s\u001b[0m 94ms/step - accuracy: 0.9499 - loss: 0.1425 - val_accuracy: 0.9482 - val_loss: 0.1599\n",
      "Epoch 101/200\n",
      "\u001b[1m586/586\u001b[0m \u001b[32m━━━━━━━━━━━━━━━━━━━━\u001b[0m\u001b[37m\u001b[0m \u001b[1m54s\u001b[0m 91ms/step - accuracy: 0.9532 - loss: 0.1346 - val_accuracy: 0.9411 - val_loss: 0.1620\n",
      "Epoch 102/200\n",
      "\u001b[1m586/586\u001b[0m \u001b[32m━━━━━━━━━━━━━━━━━━━━\u001b[0m\u001b[37m\u001b[0m \u001b[1m54s\u001b[0m 91ms/step - accuracy: 0.9514 - loss: 0.1341 - val_accuracy: 0.9600 - val_loss: 0.1150\n",
      "Epoch 103/200\n",
      "\u001b[1m586/586\u001b[0m \u001b[32m━━━━━━━━━━━━━━━━━━━━\u001b[0m\u001b[37m\u001b[0m \u001b[1m54s\u001b[0m 92ms/step - accuracy: 0.9467 - loss: 0.1408 - val_accuracy: 0.9530 - val_loss: 0.1430\n",
      "Epoch 104/200\n",
      "\u001b[1m586/586\u001b[0m \u001b[32m━━━━━━━━━━━━━━━━━━━━\u001b[0m\u001b[37m\u001b[0m \u001b[1m54s\u001b[0m 91ms/step - accuracy: 0.9579 - loss: 0.1259 - val_accuracy: 0.9328 - val_loss: 0.3260\n",
      "Epoch 105/200\n",
      "\u001b[1m586/586\u001b[0m \u001b[32m━━━━━━━━━━━━━━━━━━━━\u001b[0m\u001b[37m\u001b[0m \u001b[1m54s\u001b[0m 91ms/step - accuracy: 0.9454 - loss: 0.1408 - val_accuracy: 0.9366 - val_loss: 0.3182\n",
      "Epoch 106/200\n",
      "\u001b[1m586/586\u001b[0m \u001b[32m━━━━━━━━━━━━━━━━━━━━\u001b[0m\u001b[37m\u001b[0m \u001b[1m54s\u001b[0m 91ms/step - accuracy: 0.9495 - loss: 0.1343 - val_accuracy: 0.9389 - val_loss: 0.2268\n",
      "Epoch 107/200\n",
      "\u001b[1m586/586\u001b[0m \u001b[32m━━━━━━━━━━━━━━━━━━━━\u001b[0m\u001b[37m\u001b[0m \u001b[1m54s\u001b[0m 92ms/step - accuracy: 0.9495 - loss: 0.1397 - val_accuracy: 0.9494 - val_loss: 0.1687\n",
      "Epoch 108/200\n",
      "\u001b[1m586/586\u001b[0m \u001b[32m━━━━━━━━━━━━━━━━━━━━\u001b[0m\u001b[37m\u001b[0m \u001b[1m54s\u001b[0m 92ms/step - accuracy: 0.9533 - loss: 0.1334 - val_accuracy: 0.9517 - val_loss: 0.1392\n",
      "Epoch 109/200\n",
      "\u001b[1m586/586\u001b[0m \u001b[32m━━━━━━━━━━━━━━━━━━━━\u001b[0m\u001b[37m\u001b[0m \u001b[1m54s\u001b[0m 91ms/step - accuracy: 0.9533 - loss: 0.1290 - val_accuracy: 0.9533 - val_loss: 0.1529\n",
      "Epoch 110/200\n",
      "\u001b[1m586/586\u001b[0m \u001b[32m━━━━━━━━━━━━━━━━━━━━\u001b[0m\u001b[37m\u001b[0m \u001b[1m54s\u001b[0m 91ms/step - accuracy: 0.9485 - loss: 0.1392 - val_accuracy: 0.9395 - val_loss: 0.2454\n",
      "Epoch 111/200\n",
      "\u001b[1m586/586\u001b[0m \u001b[32m━━━━━━━━━━━━━━━━━━━━\u001b[0m\u001b[37m\u001b[0m \u001b[1m54s\u001b[0m 91ms/step - accuracy: 0.9530 - loss: 0.1293 - val_accuracy: 0.9392 - val_loss: 0.2666\n",
      "Epoch 112/200\n",
      "\u001b[1m586/586\u001b[0m \u001b[32m━━━━━━━━━━━━━━━━━━━━\u001b[0m\u001b[37m\u001b[0m \u001b[1m56s\u001b[0m 94ms/step - accuracy: 0.9523 - loss: 0.1344 - val_accuracy: 0.9485 - val_loss: 0.1761\n",
      "Epoch 113/200\n",
      "\u001b[1m586/586\u001b[0m \u001b[32m━━━━━━━━━━━━━━━━━━━━\u001b[0m\u001b[37m\u001b[0m \u001b[1m56s\u001b[0m 94ms/step - accuracy: 0.9516 - loss: 0.1307 - val_accuracy: 0.9603 - val_loss: 0.1003\n",
      "Epoch 114/200\n",
      "\u001b[1m586/586\u001b[0m \u001b[32m━━━━━━━━━━━━━━━━━━━━\u001b[0m\u001b[37m\u001b[0m \u001b[1m54s\u001b[0m 92ms/step - accuracy: 0.9541 - loss: 0.1293 - val_accuracy: 0.9542 - val_loss: 0.1419\n",
      "Epoch 115/200\n",
      "\u001b[1m586/586\u001b[0m \u001b[32m━━━━━━━━━━━━━━━━━━━━\u001b[0m\u001b[37m\u001b[0m \u001b[1m54s\u001b[0m 92ms/step - accuracy: 0.9530 - loss: 0.1263 - val_accuracy: 0.9504 - val_loss: 0.1898\n",
      "Epoch 116/200\n",
      "\u001b[1m586/586\u001b[0m \u001b[32m━━━━━━━━━━━━━━━━━━━━\u001b[0m\u001b[37m\u001b[0m \u001b[1m54s\u001b[0m 92ms/step - accuracy: 0.9589 - loss: 0.1159 - val_accuracy: 0.9482 - val_loss: 0.1714\n",
      "Epoch 117/200\n",
      "\u001b[1m586/586\u001b[0m \u001b[32m━━━━━━━━━━━━━━━━━━━━\u001b[0m\u001b[37m\u001b[0m \u001b[1m55s\u001b[0m 93ms/step - accuracy: 0.9534 - loss: 0.1388 - val_accuracy: 0.9562 - val_loss: 0.1396\n",
      "Epoch 118/200\n",
      "\u001b[1m586/586\u001b[0m \u001b[32m━━━━━━━━━━━━━━━━━━━━\u001b[0m\u001b[37m\u001b[0m \u001b[1m55s\u001b[0m 93ms/step - accuracy: 0.9550 - loss: 0.1219 - val_accuracy: 0.9475 - val_loss: 0.1680\n",
      "Epoch 119/200\n",
      "\u001b[1m586/586\u001b[0m \u001b[32m━━━━━━━━━━━━━━━━━━━━\u001b[0m\u001b[37m\u001b[0m \u001b[1m54s\u001b[0m 92ms/step - accuracy: 0.9525 - loss: 0.1350 - val_accuracy: 0.9539 - val_loss: 0.1655\n",
      "Epoch 120/200\n",
      "\u001b[1m586/586\u001b[0m \u001b[32m━━━━━━━━━━━━━━━━━━━━\u001b[0m\u001b[37m\u001b[0m \u001b[1m54s\u001b[0m 92ms/step - accuracy: 0.9568 - loss: 0.1248 - val_accuracy: 0.9152 - val_loss: 0.2663\n",
      "Epoch 121/200\n",
      "\u001b[1m586/586\u001b[0m \u001b[32m━━━━━━━━━━━━━━━━━━━━\u001b[0m\u001b[37m\u001b[0m \u001b[1m54s\u001b[0m 92ms/step - accuracy: 0.9553 - loss: 0.1278 - val_accuracy: 0.9139 - val_loss: 0.4104\n",
      "Epoch 122/200\n",
      "\u001b[1m586/586\u001b[0m \u001b[32m━━━━━━━━━━━━━━━━━━━━\u001b[0m\u001b[37m\u001b[0m \u001b[1m54s\u001b[0m 92ms/step - accuracy: 0.9590 - loss: 0.1206 - val_accuracy: 0.9427 - val_loss: 0.1828\n"
     ]
    }
   ],
   "source": [
    "history = best_model.fit(\n",
    "    train,\n",
    "    epochs=200,\n",
    "    validation_data=val,\n",
    "    callbacks=[early_stopping])"
   ]
  },
  {
   "cell_type": "markdown",
   "metadata": {},
   "source": [
    "---\n",
    "\n",
    "Plot Learning Curve\n",
    "\n",
    "---"
   ]
  },
  {
   "cell_type": "code",
   "execution_count": 21,
   "metadata": {},
   "outputs": [
    {
     "data": {
      "image/png": "[encoded data removed]",
      "text/plain": [
       "<Figure size 1200x400 with 1 Axes>"
      ]
     },
     "metadata": {},
     "output_type": "display_data"
    }
   ],
   "source": [
    "plt.figure(figsize=(12, 4))\n",
    "plt.plot(history.history['accuracy'], label='train accuracy')\n",
    "plt.plot(history.history['val_accuracy'], label='val accuracy')\n",
    "plt.title('Accuracy')\n",
    "plt.xlabel('Epochs')\n",
    "plt.ylabel('Accuracy')\n",
    "plt.legend()\n",
    "\n",
    "plt.show()"
   ]
  },
  {
   "cell_type": "markdown",
   "metadata": {},
   "source": [
    "---\n",
    "\n",
    "Obtain Model Metrics\n",
    "\n",
    "---"
   ]
  },
  {
   "cell_type": "code",
   "execution_count": 22,
   "metadata": {},
   "outputs": [
    {
     "name": "stdout",
     "output_type": "stream",
     "text": [
      "\u001b[1m98/98\u001b[0m \u001b[32m━━━━━━━━━━━━━━━━━━━━\u001b[0m\u001b[37m\u001b[0m \u001b[1m29s\u001b[0m 299ms/step\n",
      "              precision    recall  f1-score   support\n",
      "\n",
      "           0       0.99      0.94      0.96       625\n",
      "           1       0.96      0.92      0.94       625\n",
      "           2       0.91      1.00      0.95       625\n",
      "           3       0.98      0.96      0.97       625\n",
      "           4       0.96      0.98      0.97       625\n",
      "\n",
      "    accuracy                           0.96      3125\n",
      "   macro avg       0.96      0.96      0.96      3125\n",
      "weighted avg       0.96      0.96      0.96      3125\n",
      "\n"
     ]
    }
   ],
   "source": [
    "y_pred = best_model.predict(test, verbose=1)\n",
    "y_pred_classes = np.argmax(y_pred, axis=1)\n",
    "\n",
    "y_true = test.classes\n",
    "results = classification_report(y_true, y_pred_classes)\n",
    "print(results)\n"
   ]
  },
  {
   "cell_type": "markdown",
   "metadata": {},
   "source": [
    "---\n",
    "\n",
    "Obtain Val Accuracy\n",
    "\n",
    "---"
   ]
  },
  {
   "cell_type": "code",
   "execution_count": null,
   "metadata": {},
   "outputs": [
    {
     "name": "stdout",
     "output_type": "stream",
     "text": [
      "\u001b[1m98/98\u001b[0m \u001b[32m━━━━━━━━━━━━━━━━━━━━\u001b[0m\u001b[37m\u001b[0m \u001b[1m5s\u001b[0m 56ms/step - accuracy: 0.9602 - loss: 0.1044\n"
     ]
    }
   ],
   "source": [
    "results = best_model.evaluate(val, verbose=1)\n"
   ]
  },
  {
   "cell_type": "markdown",
   "metadata": {},
   "source": [
    "---\n",
    "\n",
    "Save model\n",
    "\n",
    "---"
   ]
  },
  {
   "cell_type": "code",
   "execution_count": 26,
   "metadata": {},
   "outputs": [],
   "source": [
    "best_model.save('MRI&CT.keras')\n"
   ]
  }
 ],
 "metadata": {
  "kernelspec": {
   "display_name": "Python 3",
   "language": "python",
   "name": "python3"
  },
  "language_info": {
   "codemirror_mode": {
    "name": "ipython",
    "version": 3
   },
   "file_extension": ".py",
   "mimetype": "text/x-python",
   "name": "python",
   "nbconvert_exporter": "python",
   "pygments_lexer": "ipython3",
   "version": "3.10.9"
  }
 },
 "nbformat": 4,
 "nbformat_minor": 2
}
