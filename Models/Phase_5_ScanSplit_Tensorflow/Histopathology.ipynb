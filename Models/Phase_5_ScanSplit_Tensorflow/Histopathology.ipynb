{
 "cells": [
  {
   "cell_type": "markdown",
   "metadata": {},
   "source": [
    "\n",
    "### Histopathology SCAN MODEL\n"
   ]
  },
  {
   "cell_type": "markdown",
   "metadata": {},
   "source": [
    "---\n",
    "\n",
    "Imports \n",
    "\n",
    "---\n"
   ]
  },
  {
   "cell_type": "code",
   "execution_count": 1,
   "metadata": {},
   "outputs": [
    {
     "name": "stdout",
     "output_type": "stream",
     "text": [
      "2.19.0\n"
     ]
    },
    {
     "name": "stderr",
     "output_type": "stream",
     "text": [
      "C:\\Users\\ckell\\AppData\\Local\\Temp\\ipykernel_25892\\1512335882.py:22: DeprecationWarning: `import kerastuner` is deprecated, please use `import keras_tuner`.\n",
      "  from kerastuner.tuners import Hyperband\n"
     ]
    }
   ],
   "source": [
    "import importlib\n",
    "import pipeline as pl\n",
    "importlib.reload(pl)\n",
    "import model as ml\n",
    "importlib.reload(ml)\n",
    "\n",
    "import os\n",
    "import pandas as pd\n",
    "import tensorflow as tf\n",
    "from tensorflow.keras.preprocessing.image import ImageDataGenerator\n",
    "from tensorflow.keras.models import Sequential\n",
    "from tensorflow.keras.layers import Conv2D, MaxPooling2D, Flatten, Dense, Dropout, BatchNormalization\n",
    "from tensorflow.keras.optimizers import Adam\n",
    "from tensorflow.keras.callbacks import EarlyStopping\n",
    "import numpy as np\n",
    "from sklearn.model_selection import train_test_split\n",
    "from sklearn.preprocessing import LabelEncoder\n",
    "from sklearn.metrics import classification_report\n",
    "from tensorflow.keras import layers\n",
    "import matplotlib.pyplot as plt\n",
    "import keras_tuner\n",
    "from kerastuner.tuners import Hyperband\n",
    "\n",
    "import tensorflow as tf\n",
    "from tensorflow import keras\n",
    "from tensorflow.keras import layers\n",
    "\n",
    "print(tf.__version__)"
   ]
  },
  {
   "cell_type": "markdown",
   "metadata": {},
   "source": [
    "---\n",
    "\n",
    "Load Augmented data from pipeline\n",
    "\n",
    "---"
   ]
  },
  {
   "cell_type": "code",
   "execution_count": 2,
   "metadata": {},
   "outputs": [
    {
     "name": "stdout",
     "output_type": "stream",
     "text": [
      "Found 45001 validated image filenames belonging to 12 classes.\n",
      "Found 7500 validated image filenames belonging to 12 classes.\n",
      "Found 7501 validated image filenames belonging to 12 classes.\n"
     ]
    }
   ],
   "source": [
    "csv_path = \"Histopathology.csv\"\n",
    "train, test,val = pl.loadprocesseddata(csv_path)"
   ]
  },
  {
   "cell_type": "markdown",
   "metadata": {},
   "source": [
    "---\n",
    "\n",
    "Build Model\n",
    "\n",
    "---"
   ]
  },
  {
   "cell_type": "code",
   "execution_count": 3,
   "metadata": {},
   "outputs": [],
   "source": [
    "def build_cnn_model(hp, n_classes=12):\n",
    "    activation = hp.Choice(\"activation\", values=[\"relu\", \"tanh\", \"elu\"])\n",
    "    n_conv_layers = hp.Int(\"n_conv_layers\", min_value=2, max_value=5, step=1)\n",
    "    n_filters = hp.Int(\"n_filters\", min_value=8, max_value=64, step=8)\n",
    "    \n",
    "    kernel_size_val = hp.Choice(\"kernel_size\", values=[3, 5])\n",
    "    pool_size_val = hp.Choice(\"pool_size\", values=[2,3])\n",
    "    \n",
    "    learning_rate = hp.Float(\"learning_rate\", min_value=1e-5, max_value=1e-2, sampling=\"log\")\n",
    "    decay_steps = hp.Int(\"decay_steps\", min_value=1000, max_value=10000, step=1000)\n",
    "    decay_rate = hp.Float(\"decay_rate\", min_value=0.9, max_value=0.999, step=0.001)\n",
    "    dropout_rate = hp.Float(\"dropout_rate\", min_value=0.2, max_value=0.5, step=0.1)\n",
    "    batch_norm = hp.Choice(\"batch_norm\", values=[True, False])\n",
    "    optimizer_choice = hp.Choice(\"optimizer\", values=[\"sgd\", \"RMSprop\", \"adam\", \"AdamW\"])\n",
    "    \n",
    "    expon_dec = keras.optimizers.schedules.ExponentialDecay(\n",
    "        initial_learning_rate=learning_rate,\n",
    "        decay_steps=decay_steps,\n",
    "        decay_rate=decay_rate\n",
    "    )\n",
    "    if optimizer_choice == \"sgd\":\n",
    "        optimizer = keras.optimizers.SGD(learning_rate=expon_dec)\n",
    "    elif optimizer_choice == \"RMSprop\":\n",
    "        optimizer = keras.optimizers.RMSprop(learning_rate=expon_dec)\n",
    "    else:\n",
    "        optimizer = keras.optimizers.Adam(learning_rate=expon_dec)\n",
    "    \n",
    "    model = keras.Sequential()\n",
    "    \n",
    "    model.add(layers.Conv2D(\n",
    "        filters=n_filters,\n",
    "        kernel_size=(kernel_size_val, kernel_size_val),\n",
    "        activation=activation,\n",
    "        input_shape=(64, 64, 3),\n",
    "        padding='same'\n",
    "    ))\n",
    "    if batch_norm:\n",
    "        model.add(layers.BatchNormalization())\n",
    "    model.add(layers.MaxPooling2D(pool_size=(pool_size_val, pool_size_val),padding=\"same\"))\n",
    "    \n",
    "    for i in range(n_conv_layers - 1):\n",
    "        model.add(layers.Conv2D(\n",
    "            filters=n_filters * (2**i),\n",
    "            kernel_size=(kernel_size_val, kernel_size_val),\n",
    "            activation=activation,\n",
    "            padding='same'\n",
    "        ))\n",
    "        if batch_norm:\n",
    "            model.add(layers.BatchNormalization())\n",
    "        model.add(layers.MaxPooling2D(pool_size=(pool_size_val, pool_size_val), padding=\"same\"))\n",
    "        model.add(layers.Dropout(dropout_rate))\n",
    "\n",
    "    model.add(layers.GlobalAveragePooling2D())\n",
    "    \n",
    "    n_dense_units = hp.Int(\"n_dense_units\", min_value=32, max_value=256, step=32)\n",
    "    model.add(layers.Dense(units=n_dense_units, activation=activation))\n",
    "    if batch_norm:\n",
    "        model.add(layers.BatchNormalization())\n",
    "    model.add(layers.Dropout(dropout_rate))\n",
    "    \n",
    "    model.add(layers.Dense(n_classes, activation=\"softmax\"))\n",
    "    \n",
    "    model.compile(loss=\"categorical_crossentropy\", optimizer=optimizer, metrics=[\"accuracy\"])\n",
    "    \n",
    "    return model\n"
   ]
  },
  {
   "cell_type": "markdown",
   "metadata": {},
   "source": [
    "---\n",
    "\n",
    "Hyperband Search\n",
    "\n",
    "---"
   ]
  },
  {
   "cell_type": "code",
   "execution_count": 4,
   "metadata": {},
   "outputs": [
    {
     "name": "stdout",
     "output_type": "stream",
     "text": [
      "Reloading Tuner from hyperbanding-ScanTypes\\Hist\\tuner0.json\n"
     ]
    }
   ],
   "source": [
    "tuner = Hyperband(\n",
    "    lambda hp: build_cnn_model(hp),\n",
    "    objective='val_accuracy',\n",
    "    max_epochs=15,\n",
    "    factor=3,\n",
    "    directory='hyperbanding-ScanTypes',\n",
    "    project_name='Hist')"
   ]
  },
  {
   "cell_type": "code",
   "execution_count": 5,
   "metadata": {},
   "outputs": [
    {
     "name": "stdout",
     "output_type": "stream",
     "text": [
      "Trial 30 Complete [00h 40m 39s]\n",
      "val_accuracy: 0.23196907341480255\n",
      "\n",
      "Best val_accuracy So Far: 0.8136248588562012\n",
      "Total elapsed time: 1d 04h 41m 47s\n"
     ]
    }
   ],
   "source": [
    "tuner.search(train, epochs=10, validation_data=val)"
   ]
  },
  {
   "cell_type": "code",
   "execution_count": 7,
   "metadata": {},
   "outputs": [
    {
     "name": "stderr",
     "output_type": "stream",
     "text": [
      "c:\\Users\\ckell\\AppData\\Local\\Programs\\Python\\Python310\\lib\\site-packages\\keras\\src\\saving\\saving_lib.py:713: UserWarning: Skipping variable loading for optimizer 'adam', because it has 1 variables whereas the saved optimizer has 17 variables. \n",
      "  saveable.load_own_variables(weights_store.get(inner_path))\n"
     ]
    }
   ],
   "source": [
    "best_model = tuner.get_best_models(num_models=1)[0]"
   ]
  },
  {
   "cell_type": "markdown",
   "metadata": {},
   "source": [
    "---\n",
    "\n",
    "Train Best Model\n",
    "\n",
    "---"
   ]
  },
  {
   "cell_type": "code",
   "execution_count": 6,
   "metadata": {},
   "outputs": [],
   "source": [
    "early_stopping = EarlyStopping(\n",
    "    monitor='val_accuracy',\n",
    "    patience=30,\n",
    "    restore_best_weights=True)"
   ]
  },
  {
   "cell_type": "code",
   "execution_count": 8,
   "metadata": {},
   "outputs": [
    {
     "name": "stdout",
     "output_type": "stream",
     "text": [
      "Epoch 1/200\n",
      "\u001b[1m1407/1407\u001b[0m \u001b[32m━━━━━━━━━━━━━━━━━━━━\u001b[0m\u001b[37m\u001b[0m \u001b[1m169s\u001b[0m 119ms/step - accuracy: 0.7765 - loss: 0.5887 - val_accuracy: 0.7504 - val_loss: 0.7704\n",
      "Epoch 2/200\n",
      "\u001b[1m1407/1407\u001b[0m \u001b[32m━━━━━━━━━━━━━━━━━━━━\u001b[0m\u001b[37m\u001b[0m \u001b[1m166s\u001b[0m 118ms/step - accuracy: 0.7783 - loss: 0.5725 - val_accuracy: 0.8186 - val_loss: 0.4538\n",
      "Epoch 3/200\n",
      "\u001b[1m1407/1407\u001b[0m \u001b[32m━━━━━━━━━━━━━━━━━━━━\u001b[0m\u001b[37m\u001b[0m \u001b[1m161s\u001b[0m 114ms/step - accuracy: 0.7810 - loss: 0.5692 - val_accuracy: 0.7484 - val_loss: 0.7831\n",
      "Epoch 4/200\n",
      "\u001b[1m1407/1407\u001b[0m \u001b[32m━━━━━━━━━━━━━━━━━━━━\u001b[0m\u001b[37m\u001b[0m \u001b[1m162s\u001b[0m 114ms/step - accuracy: 0.7812 - loss: 0.5778 - val_accuracy: 0.8347 - val_loss: 0.4469\n",
      "Epoch 5/200\n",
      "\u001b[1m1407/1407\u001b[0m \u001b[32m━━━━━━━━━━━━━━━━━━━━\u001b[0m\u001b[37m\u001b[0m \u001b[1m161s\u001b[0m 114ms/step - accuracy: 0.7813 - loss: 0.5748 - val_accuracy: 0.7526 - val_loss: 0.6110\n",
      "Epoch 6/200\n",
      "\u001b[1m1407/1407\u001b[0m \u001b[32m━━━━━━━━━━━━━━━━━━━━\u001b[0m\u001b[37m\u001b[0m \u001b[1m162s\u001b[0m 114ms/step - accuracy: 0.7909 - loss: 0.5533 - val_accuracy: 0.7683 - val_loss: 0.6367\n",
      "Epoch 7/200\n",
      "\u001b[1m1407/1407\u001b[0m \u001b[32m━━━━━━━━━━━━━━━━━━━━\u001b[0m\u001b[37m\u001b[0m \u001b[1m161s\u001b[0m 114ms/step - accuracy: 0.7874 - loss: 0.5689 - val_accuracy: 0.7775 - val_loss: 0.6921\n",
      "Epoch 8/200\n",
      "\u001b[1m1407/1407\u001b[0m \u001b[32m━━━━━━━━━━━━━━━━━━━━\u001b[0m\u001b[37m\u001b[0m \u001b[1m174s\u001b[0m 123ms/step - accuracy: 0.7977 - loss: 0.5245 - val_accuracy: 0.8132 - val_loss: 0.5263\n",
      "Epoch 9/200\n",
      "\u001b[1m1407/1407\u001b[0m \u001b[32m━━━━━━━━━━━━━━━━━━━━\u001b[0m\u001b[37m\u001b[0m \u001b[1m222s\u001b[0m 157ms/step - accuracy: 0.7960 - loss: 0.5442 - val_accuracy: 0.7690 - val_loss: 0.6124\n",
      "Epoch 10/200\n",
      "\u001b[1m1407/1407\u001b[0m \u001b[32m━━━━━━━━━━━━━━━━━━━━\u001b[0m\u001b[37m\u001b[0m \u001b[1m184s\u001b[0m 130ms/step - accuracy: 0.7983 - loss: 0.5327 - val_accuracy: 0.8395 - val_loss: 0.4125\n",
      "Epoch 11/200\n",
      "\u001b[1m1407/1407\u001b[0m \u001b[32m━━━━━━━━━━━━━━━━━━━━\u001b[0m\u001b[37m\u001b[0m \u001b[1m166s\u001b[0m 118ms/step - accuracy: 0.8035 - loss: 0.5134 - val_accuracy: 0.7823 - val_loss: 0.7644\n",
      "Epoch 12/200\n",
      "\u001b[1m1407/1407\u001b[0m \u001b[32m━━━━━━━━━━━━━━━━━━━━\u001b[0m\u001b[37m\u001b[0m \u001b[1m167s\u001b[0m 118ms/step - accuracy: 0.8017 - loss: 0.5242 - val_accuracy: 0.8098 - val_loss: 0.5818\n",
      "Epoch 13/200\n",
      "\u001b[1m1407/1407\u001b[0m \u001b[32m━━━━━━━━━━━━━━━━━━━━\u001b[0m\u001b[37m\u001b[0m \u001b[1m166s\u001b[0m 117ms/step - accuracy: 0.8035 - loss: 0.5275 - val_accuracy: 0.7596 - val_loss: 0.6591\n",
      "Epoch 14/200\n",
      "\u001b[1m1407/1407\u001b[0m \u001b[32m━━━━━━━━━━━━━━━━━━━━\u001b[0m\u001b[37m\u001b[0m \u001b[1m162s\u001b[0m 114ms/step - accuracy: 0.8080 - loss: 0.4991 - val_accuracy: 0.8186 - val_loss: 0.4638\n",
      "Epoch 15/200\n",
      "\u001b[1m1407/1407\u001b[0m \u001b[32m━━━━━━━━━━━━━━━━━━━━\u001b[0m\u001b[37m\u001b[0m \u001b[1m161s\u001b[0m 114ms/step - accuracy: 0.8116 - loss: 0.4908 - val_accuracy: 0.8167 - val_loss: 0.5156\n",
      "Epoch 16/200\n",
      "\u001b[1m1407/1407\u001b[0m \u001b[32m━━━━━━━━━━━━━━━━━━━━\u001b[0m\u001b[37m\u001b[0m \u001b[1m165s\u001b[0m 117ms/step - accuracy: 0.8135 - loss: 0.4956 - val_accuracy: 0.7691 - val_loss: 0.6819\n",
      "Epoch 17/200\n",
      "\u001b[1m1407/1407\u001b[0m \u001b[32m━━━━━━━━━━━━━━━━━━━━\u001b[0m\u001b[37m\u001b[0m \u001b[1m167s\u001b[0m 118ms/step - accuracy: 0.8051 - loss: 0.5206 - val_accuracy: 0.7220 - val_loss: 0.8227\n",
      "Epoch 18/200\n",
      "\u001b[1m1407/1407\u001b[0m \u001b[32m━━━━━━━━━━━━━━━━━━━━\u001b[0m\u001b[37m\u001b[0m \u001b[1m164s\u001b[0m 116ms/step - accuracy: 0.8133 - loss: 0.4898 - val_accuracy: 0.7872 - val_loss: 0.5901\n",
      "Epoch 19/200\n",
      "\u001b[1m1407/1407\u001b[0m \u001b[32m━━━━━━━━━━━━━━━━━━━━\u001b[0m\u001b[37m\u001b[0m \u001b[1m164s\u001b[0m 116ms/step - accuracy: 0.8220 - loss: 0.4726 - val_accuracy: 0.8204 - val_loss: 0.5408\n",
      "Epoch 20/200\n",
      "\u001b[1m1407/1407\u001b[0m \u001b[32m━━━━━━━━━━━━━━━━━━━━\u001b[0m\u001b[37m\u001b[0m \u001b[1m162s\u001b[0m 115ms/step - accuracy: 0.8142 - loss: 0.4912 - val_accuracy: 0.8023 - val_loss: 0.5263\n",
      "Epoch 21/200\n",
      "\u001b[1m1407/1407\u001b[0m \u001b[32m━━━━━━━━━━━━━━━━━━━━\u001b[0m\u001b[37m\u001b[0m \u001b[1m167s\u001b[0m 118ms/step - accuracy: 0.8102 - loss: 0.4921 - val_accuracy: 0.8214 - val_loss: 0.5128\n",
      "Epoch 22/200\n",
      "\u001b[1m1407/1407\u001b[0m \u001b[32m━━━━━━━━━━━━━━━━━━━━\u001b[0m\u001b[37m\u001b[0m \u001b[1m167s\u001b[0m 118ms/step - accuracy: 0.8214 - loss: 0.4738 - val_accuracy: 0.7746 - val_loss: 0.6943\n",
      "Epoch 23/200\n",
      "\u001b[1m1407/1407\u001b[0m \u001b[32m━━━━━━━━━━━━━━━━━━━━\u001b[0m\u001b[37m\u001b[0m \u001b[1m167s\u001b[0m 118ms/step - accuracy: 0.8191 - loss: 0.4842 - val_accuracy: 0.7864 - val_loss: 0.6083\n",
      "Epoch 24/200\n",
      "\u001b[1m1407/1407\u001b[0m \u001b[32m━━━━━━━━━━━━━━━━━━━━\u001b[0m\u001b[37m\u001b[0m \u001b[1m165s\u001b[0m 117ms/step - accuracy: 0.8234 - loss: 0.4721 - val_accuracy: 0.7858 - val_loss: 0.7330\n",
      "Epoch 25/200\n",
      "\u001b[1m1407/1407\u001b[0m \u001b[32m━━━━━━━━━━━━━━━━━━━━\u001b[0m\u001b[37m\u001b[0m \u001b[1m162s\u001b[0m 115ms/step - accuracy: 0.8249 - loss: 0.4640 - val_accuracy: 0.7523 - val_loss: 0.8016\n",
      "Epoch 26/200\n",
      "\u001b[1m1407/1407\u001b[0m \u001b[32m━━━━━━━━━━━━━━━━━━━━\u001b[0m\u001b[37m\u001b[0m \u001b[1m163s\u001b[0m 115ms/step - accuracy: 0.8253 - loss: 0.4555 - val_accuracy: 0.7616 - val_loss: 0.8710\n",
      "Epoch 27/200\n",
      "\u001b[1m1407/1407\u001b[0m \u001b[32m━━━━━━━━━━━━━━━━━━━━\u001b[0m\u001b[37m\u001b[0m \u001b[1m167s\u001b[0m 118ms/step - accuracy: 0.8229 - loss: 0.4684 - val_accuracy: 0.8342 - val_loss: 0.4662\n",
      "Epoch 28/200\n",
      "\u001b[1m1407/1407\u001b[0m \u001b[32m━━━━━━━━━━━━━━━━━━━━\u001b[0m\u001b[37m\u001b[0m \u001b[1m167s\u001b[0m 118ms/step - accuracy: 0.8270 - loss: 0.4526 - val_accuracy: 0.7955 - val_loss: 0.5788\n",
      "Epoch 29/200\n",
      "\u001b[1m1407/1407\u001b[0m \u001b[32m━━━━━━━━━━━━━━━━━━━━\u001b[0m\u001b[37m\u001b[0m \u001b[1m167s\u001b[0m 118ms/step - accuracy: 0.8299 - loss: 0.4420 - val_accuracy: 0.8102 - val_loss: 0.5649\n",
      "Epoch 30/200\n",
      "\u001b[1m1407/1407\u001b[0m \u001b[32m━━━━━━━━━━━━━━━━━━━━\u001b[0m\u001b[37m\u001b[0m \u001b[1m164s\u001b[0m 116ms/step - accuracy: 0.8284 - loss: 0.4569 - val_accuracy: 0.7424 - val_loss: 1.0520\n",
      "Epoch 31/200\n",
      "\u001b[1m1407/1407\u001b[0m \u001b[32m━━━━━━━━━━━━━━━━━━━━\u001b[0m\u001b[37m\u001b[0m \u001b[1m162s\u001b[0m 115ms/step - accuracy: 0.8311 - loss: 0.4459 - val_accuracy: 0.8063 - val_loss: 0.6251\n",
      "Epoch 32/200\n",
      "\u001b[1m1407/1407\u001b[0m \u001b[32m━━━━━━━━━━━━━━━━━━━━\u001b[0m\u001b[37m\u001b[0m \u001b[1m167s\u001b[0m 118ms/step - accuracy: 0.8312 - loss: 0.4444 - val_accuracy: 0.7979 - val_loss: 0.5425\n",
      "Epoch 33/200\n",
      "\u001b[1m1407/1407\u001b[0m \u001b[32m━━━━━━━━━━━━━━━━━━━━\u001b[0m\u001b[37m\u001b[0m \u001b[1m168s\u001b[0m 119ms/step - accuracy: 0.8282 - loss: 0.4478 - val_accuracy: 0.7660 - val_loss: 0.6614\n",
      "Epoch 34/200\n",
      "\u001b[1m1407/1407\u001b[0m \u001b[32m━━━━━━━━━━━━━━━━━━━━\u001b[0m\u001b[37m\u001b[0m \u001b[1m167s\u001b[0m 118ms/step - accuracy: 0.8340 - loss: 0.4390 - val_accuracy: 0.8332 - val_loss: 0.4910\n",
      "Epoch 35/200\n",
      "\u001b[1m1407/1407\u001b[0m \u001b[32m━━━━━━━━━━━━━━━━━━━━\u001b[0m\u001b[37m\u001b[0m \u001b[1m165s\u001b[0m 117ms/step - accuracy: 0.8335 - loss: 0.4326 - val_accuracy: 0.8523 - val_loss: 0.4192\n",
      "Epoch 36/200\n",
      "\u001b[1m1407/1407\u001b[0m \u001b[32m━━━━━━━━━━━━━━━━━━━━\u001b[0m\u001b[37m\u001b[0m \u001b[1m162s\u001b[0m 115ms/step - accuracy: 0.8397 - loss: 0.4180 - val_accuracy: 0.7767 - val_loss: 0.7372\n",
      "Epoch 37/200\n",
      "\u001b[1m1407/1407\u001b[0m \u001b[32m━━━━━━━━━━━━━━━━━━━━\u001b[0m\u001b[37m\u001b[0m \u001b[1m162s\u001b[0m 115ms/step - accuracy: 0.8337 - loss: 0.4316 - val_accuracy: 0.7951 - val_loss: 0.6323\n",
      "Epoch 38/200\n",
      "\u001b[1m1407/1407\u001b[0m \u001b[32m━━━━━━━━━━━━━━━━━━━━\u001b[0m\u001b[37m\u001b[0m \u001b[1m164s\u001b[0m 116ms/step - accuracy: 0.8394 - loss: 0.4190 - val_accuracy: 0.7675 - val_loss: 0.7625\n",
      "Epoch 39/200\n",
      "\u001b[1m1407/1407\u001b[0m \u001b[32m━━━━━━━━━━━━━━━━━━━━\u001b[0m\u001b[37m\u001b[0m \u001b[1m177s\u001b[0m 125ms/step - accuracy: 0.8375 - loss: 0.4238 - val_accuracy: 0.7955 - val_loss: 0.7273\n",
      "Epoch 40/200\n",
      "\u001b[1m1407/1407\u001b[0m \u001b[32m━━━━━━━━━━━━━━━━━━━━\u001b[0m\u001b[37m\u001b[0m \u001b[1m173s\u001b[0m 123ms/step - accuracy: 0.8384 - loss: 0.4210 - val_accuracy: 0.7551 - val_loss: 0.8478\n",
      "Epoch 41/200\n",
      "\u001b[1m1407/1407\u001b[0m \u001b[32m━━━━━━━━━━━━━━━━━━━━\u001b[0m\u001b[37m\u001b[0m \u001b[1m165s\u001b[0m 117ms/step - accuracy: 0.8391 - loss: 0.4210 - val_accuracy: 0.7759 - val_loss: 0.7865\n",
      "Epoch 42/200\n",
      "\u001b[1m1407/1407\u001b[0m \u001b[32m━━━━━━━━━━━━━━━━━━━━\u001b[0m\u001b[37m\u001b[0m \u001b[1m168s\u001b[0m 119ms/step - accuracy: 0.8382 - loss: 0.4236 - val_accuracy: 0.8026 - val_loss: 0.5828\n",
      "Epoch 43/200\n",
      "\u001b[1m1407/1407\u001b[0m \u001b[32m━━━━━━━━━━━━━━━━━━━━\u001b[0m\u001b[37m\u001b[0m \u001b[1m169s\u001b[0m 119ms/step - accuracy: 0.8448 - loss: 0.3998 - val_accuracy: 0.8404 - val_loss: 0.4306\n",
      "Epoch 44/200\n",
      "\u001b[1m1407/1407\u001b[0m \u001b[32m━━━━━━━━━━━━━━━━━━━━\u001b[0m\u001b[37m\u001b[0m \u001b[1m168s\u001b[0m 119ms/step - accuracy: 0.8417 - loss: 0.4170 - val_accuracy: 0.7902 - val_loss: 0.7118\n",
      "Epoch 45/200\n",
      "\u001b[1m1407/1407\u001b[0m \u001b[32m━━━━━━━━━━━━━━━━━━━━\u001b[0m\u001b[37m\u001b[0m \u001b[1m167s\u001b[0m 118ms/step - accuracy: 0.8472 - loss: 0.3998 - val_accuracy: 0.7634 - val_loss: 0.7811\n",
      "Epoch 46/200\n",
      "\u001b[1m1407/1407\u001b[0m \u001b[32m━━━━━━━━━━━━━━━━━━━━\u001b[0m\u001b[37m\u001b[0m \u001b[1m167s\u001b[0m 119ms/step - accuracy: 0.8362 - loss: 0.4288 - val_accuracy: 0.7952 - val_loss: 0.6255\n",
      "Epoch 47/200\n",
      "\u001b[1m1407/1407\u001b[0m \u001b[32m━━━━━━━━━━━━━━━━━━━━\u001b[0m\u001b[37m\u001b[0m \u001b[1m169s\u001b[0m 120ms/step - accuracy: 0.8413 - loss: 0.4206 - val_accuracy: 0.7822 - val_loss: 0.7608\n",
      "Epoch 48/200\n",
      "\u001b[1m1407/1407\u001b[0m \u001b[32m━━━━━━━━━━━━━━━━━━━━\u001b[0m\u001b[37m\u001b[0m \u001b[1m169s\u001b[0m 119ms/step - accuracy: 0.8476 - loss: 0.4035 - val_accuracy: 0.8412 - val_loss: 0.4584\n",
      "Epoch 49/200\n",
      "\u001b[1m1407/1407\u001b[0m \u001b[32m━━━━━━━━━━━━━━━━━━━━\u001b[0m\u001b[37m\u001b[0m \u001b[1m167s\u001b[0m 118ms/step - accuracy: 0.8460 - loss: 0.4097 - val_accuracy: 0.7594 - val_loss: 0.9416\n",
      "Epoch 50/200\n",
      "\u001b[1m1407/1407\u001b[0m \u001b[32m━━━━━━━━━━━━━━━━━━━━\u001b[0m\u001b[37m\u001b[0m \u001b[1m169s\u001b[0m 119ms/step - accuracy: 0.8492 - loss: 0.4039 - val_accuracy: 0.7771 - val_loss: 0.7590\n",
      "Epoch 51/200\n",
      "\u001b[1m1407/1407\u001b[0m \u001b[32m━━━━━━━━━━━━━━━━━━━━\u001b[0m\u001b[37m\u001b[0m \u001b[1m167s\u001b[0m 118ms/step - accuracy: 0.8431 - loss: 0.4149 - val_accuracy: 0.6963 - val_loss: 0.9469\n",
      "Epoch 52/200\n",
      "\u001b[1m1407/1407\u001b[0m \u001b[32m━━━━━━━━━━━━━━━━━━━━\u001b[0m\u001b[37m\u001b[0m \u001b[1m165s\u001b[0m 117ms/step - accuracy: 0.8470 - loss: 0.3957 - val_accuracy: 0.7756 - val_loss: 0.7246\n",
      "Epoch 53/200\n",
      "\u001b[1m1407/1407\u001b[0m \u001b[32m━━━━━━━━━━━━━━━━━━━━\u001b[0m\u001b[37m\u001b[0m \u001b[1m177s\u001b[0m 126ms/step - accuracy: 0.8474 - loss: 0.3981 - val_accuracy: 0.8075 - val_loss: 0.6619\n",
      "Epoch 54/200\n",
      "\u001b[1m1407/1407\u001b[0m \u001b[32m━━━━━━━━━━━━━━━━━━━━\u001b[0m\u001b[37m\u001b[0m \u001b[1m173s\u001b[0m 123ms/step - accuracy: 0.8537 - loss: 0.3828 - val_accuracy: 0.8538 - val_loss: 0.4112\n",
      "Epoch 55/200\n",
      "\u001b[1m1407/1407\u001b[0m \u001b[32m━━━━━━━━━━━━━━━━━━━━\u001b[0m\u001b[37m\u001b[0m \u001b[1m168s\u001b[0m 119ms/step - accuracy: 0.8529 - loss: 0.3877 - val_accuracy: 0.7543 - val_loss: 0.8086\n",
      "Epoch 56/200\n",
      "\u001b[1m1407/1407\u001b[0m \u001b[32m━━━━━━━━━━━━━━━━━━━━\u001b[0m\u001b[37m\u001b[0m \u001b[1m169s\u001b[0m 119ms/step - accuracy: 0.8545 - loss: 0.3875 - val_accuracy: 0.8200 - val_loss: 0.5497\n",
      "Epoch 57/200\n",
      "\u001b[1m1407/1407\u001b[0m \u001b[32m━━━━━━━━━━━━━━━━━━━━\u001b[0m\u001b[37m\u001b[0m \u001b[1m166s\u001b[0m 117ms/step - accuracy: 0.8545 - loss: 0.3857 - val_accuracy: 0.7416 - val_loss: 0.7889\n",
      "Epoch 58/200\n",
      "\u001b[1m1407/1407\u001b[0m \u001b[32m━━━━━━━━━━━━━━━━━━━━\u001b[0m\u001b[37m\u001b[0m \u001b[1m168s\u001b[0m 119ms/step - accuracy: 0.8537 - loss: 0.3904 - val_accuracy: 0.7695 - val_loss: 0.7241\n",
      "Epoch 59/200\n",
      "\u001b[1m1407/1407\u001b[0m \u001b[32m━━━━━━━━━━━━━━━━━━━━\u001b[0m\u001b[37m\u001b[0m \u001b[1m169s\u001b[0m 119ms/step - accuracy: 0.8528 - loss: 0.3845 - val_accuracy: 0.8459 - val_loss: 0.4505\n",
      "Epoch 60/200\n",
      "\u001b[1m1407/1407\u001b[0m \u001b[32m━━━━━━━━━━━━━━━━━━━━\u001b[0m\u001b[37m\u001b[0m \u001b[1m178s\u001b[0m 126ms/step - accuracy: 0.8594 - loss: 0.3715 - val_accuracy: 0.7980 - val_loss: 0.6450\n",
      "Epoch 61/200\n",
      "\u001b[1m1407/1407\u001b[0m \u001b[32m━━━━━━━━━━━━━━━━━━━━\u001b[0m\u001b[37m\u001b[0m \u001b[1m178s\u001b[0m 126ms/step - accuracy: 0.8538 - loss: 0.3829 - val_accuracy: 0.8019 - val_loss: 0.6221\n",
      "Epoch 62/200\n",
      "\u001b[1m1407/1407\u001b[0m \u001b[32m━━━━━━━━━━━━━━━━━━━━\u001b[0m\u001b[37m\u001b[0m \u001b[1m169s\u001b[0m 120ms/step - accuracy: 0.8551 - loss: 0.3813 - val_accuracy: 0.8239 - val_loss: 0.5710\n",
      "Epoch 63/200\n",
      "\u001b[1m1407/1407\u001b[0m \u001b[32m━━━━━━━━━━━━━━━━━━━━\u001b[0m\u001b[37m\u001b[0m \u001b[1m170s\u001b[0m 120ms/step - accuracy: 0.8529 - loss: 0.3773 - val_accuracy: 0.8360 - val_loss: 0.4633\n",
      "Epoch 64/200\n",
      "\u001b[1m1407/1407\u001b[0m \u001b[32m━━━━━━━━━━━━━━━━━━━━\u001b[0m\u001b[37m\u001b[0m \u001b[1m171s\u001b[0m 121ms/step - accuracy: 0.8560 - loss: 0.3716 - val_accuracy: 0.8022 - val_loss: 0.6441\n",
      "Epoch 65/200\n",
      "\u001b[1m1407/1407\u001b[0m \u001b[32m━━━━━━━━━━━━━━━━━━━━\u001b[0m\u001b[37m\u001b[0m \u001b[1m173s\u001b[0m 122ms/step - accuracy: 0.8549 - loss: 0.3720 - val_accuracy: 0.7895 - val_loss: 0.6616\n",
      "Epoch 66/200\n",
      "\u001b[1m1407/1407\u001b[0m \u001b[32m━━━━━━━━━━━━━━━━━━━━\u001b[0m\u001b[37m\u001b[0m \u001b[1m173s\u001b[0m 122ms/step - accuracy: 0.8576 - loss: 0.3679 - val_accuracy: 0.8027 - val_loss: 0.6587\n",
      "Epoch 67/200\n",
      "\u001b[1m1407/1407\u001b[0m \u001b[32m━━━━━━━━━━━━━━━━━━━━\u001b[0m\u001b[37m\u001b[0m \u001b[1m167s\u001b[0m 119ms/step - accuracy: 0.8637 - loss: 0.3615 - val_accuracy: 0.7983 - val_loss: 0.7016\n",
      "Epoch 68/200\n",
      "\u001b[1m1407/1407\u001b[0m \u001b[32m━━━━━━━━━━━━━━━━━━━━\u001b[0m\u001b[37m\u001b[0m \u001b[1m169s\u001b[0m 119ms/step - accuracy: 0.8633 - loss: 0.3554 - val_accuracy: 0.7663 - val_loss: 1.0422\n",
      "Epoch 69/200\n",
      "\u001b[1m1407/1407\u001b[0m \u001b[32m━━━━━━━━━━━━━━━━━━━━\u001b[0m\u001b[37m\u001b[0m \u001b[1m169s\u001b[0m 119ms/step - accuracy: 0.8599 - loss: 0.3683 - val_accuracy: 0.8375 - val_loss: 0.4757\n",
      "Epoch 70/200\n",
      "\u001b[1m1407/1407\u001b[0m \u001b[32m━━━━━━━━━━━━━━━━━━━━\u001b[0m\u001b[37m\u001b[0m \u001b[1m169s\u001b[0m 120ms/step - accuracy: 0.8583 - loss: 0.3750 - val_accuracy: 0.8502 - val_loss: 0.4131\n",
      "Epoch 71/200\n",
      "\u001b[1m1407/1407\u001b[0m \u001b[32m━━━━━━━━━━━━━━━━━━━━\u001b[0m\u001b[37m\u001b[0m \u001b[1m183s\u001b[0m 129ms/step - accuracy: 0.8650 - loss: 0.3476 - val_accuracy: 0.8252 - val_loss: 0.5673\n",
      "Epoch 72/200\n",
      "\u001b[1m1407/1407\u001b[0m \u001b[32m━━━━━━━━━━━━━━━━━━━━\u001b[0m\u001b[37m\u001b[0m \u001b[1m188s\u001b[0m 133ms/step - accuracy: 0.8655 - loss: 0.3505 - val_accuracy: 0.8135 - val_loss: 0.5497\n",
      "Epoch 73/200\n",
      "\u001b[1m1407/1407\u001b[0m \u001b[32m━━━━━━━━━━━━━━━━━━━━\u001b[0m\u001b[37m\u001b[0m \u001b[1m188s\u001b[0m 133ms/step - accuracy: 0.8589 - loss: 0.3695 - val_accuracy: 0.8026 - val_loss: 0.6428\n",
      "Epoch 74/200\n",
      "\u001b[1m1407/1407\u001b[0m \u001b[32m━━━━━━━━━━━━━━━━━━━━\u001b[0m\u001b[37m\u001b[0m \u001b[1m187s\u001b[0m 132ms/step - accuracy: 0.8638 - loss: 0.3575 - val_accuracy: 0.8098 - val_loss: 0.6324\n",
      "Epoch 75/200\n",
      "\u001b[1m1407/1407\u001b[0m \u001b[32m━━━━━━━━━━━━━━━━━━━━\u001b[0m\u001b[37m\u001b[0m \u001b[1m189s\u001b[0m 134ms/step - accuracy: 0.8646 - loss: 0.3485 - val_accuracy: 0.7870 - val_loss: 0.7122\n",
      "Epoch 76/200\n",
      "\u001b[1m1407/1407\u001b[0m \u001b[32m━━━━━━━━━━━━━━━━━━━━\u001b[0m\u001b[37m\u001b[0m \u001b[1m184s\u001b[0m 130ms/step - accuracy: 0.8661 - loss: 0.3495 - val_accuracy: 0.8212 - val_loss: 0.5441\n",
      "Epoch 77/200\n",
      "\u001b[1m1407/1407\u001b[0m \u001b[32m━━━━━━━━━━━━━━━━━━━━\u001b[0m\u001b[37m\u001b[0m \u001b[1m180s\u001b[0m 127ms/step - accuracy: 0.8672 - loss: 0.3462 - val_accuracy: 0.8234 - val_loss: 0.6185\n",
      "Epoch 78/200\n",
      "\u001b[1m1407/1407\u001b[0m \u001b[32m━━━━━━━━━━━━━━━━━━━━\u001b[0m\u001b[37m\u001b[0m \u001b[1m179s\u001b[0m 127ms/step - accuracy: 0.8669 - loss: 0.3417 - val_accuracy: 0.7780 - val_loss: 0.8260\n",
      "Epoch 79/200\n",
      "\u001b[1m1407/1407\u001b[0m \u001b[32m━━━━━━━━━━━━━━━━━━━━\u001b[0m\u001b[37m\u001b[0m \u001b[1m179s\u001b[0m 127ms/step - accuracy: 0.8651 - loss: 0.3534 - val_accuracy: 0.7904 - val_loss: 0.7439\n",
      "Epoch 80/200\n",
      "\u001b[1m1407/1407\u001b[0m \u001b[32m━━━━━━━━━━━━━━━━━━━━\u001b[0m\u001b[37m\u001b[0m \u001b[1m179s\u001b[0m 127ms/step - accuracy: 0.8641 - loss: 0.3480 - val_accuracy: 0.7906 - val_loss: 0.6766\n",
      "Epoch 81/200\n",
      "\u001b[1m1407/1407\u001b[0m \u001b[32m━━━━━━━━━━━━━━━━━━━━\u001b[0m\u001b[37m\u001b[0m \u001b[1m179s\u001b[0m 127ms/step - accuracy: 0.8731 - loss: 0.3270 - val_accuracy: 0.7352 - val_loss: 1.0421\n",
      "Epoch 82/200\n",
      "\u001b[1m1407/1407\u001b[0m \u001b[32m━━━━━━━━━━━━━━━━━━━━\u001b[0m\u001b[37m\u001b[0m \u001b[1m179s\u001b[0m 127ms/step - accuracy: 0.8678 - loss: 0.3441 - val_accuracy: 0.7871 - val_loss: 0.8943\n",
      "Epoch 83/200\n",
      "\u001b[1m1407/1407\u001b[0m \u001b[32m━━━━━━━━━━━━━━━━━━━━\u001b[0m\u001b[37m\u001b[0m \u001b[1m181s\u001b[0m 128ms/step - accuracy: 0.8698 - loss: 0.3369 - val_accuracy: 0.7688 - val_loss: 0.9650\n",
      "Epoch 84/200\n",
      "\u001b[1m1407/1407\u001b[0m \u001b[32m━━━━━━━━━━━━━━━━━━━━\u001b[0m\u001b[37m\u001b[0m \u001b[1m179s\u001b[0m 127ms/step - accuracy: 0.8695 - loss: 0.3383 - val_accuracy: 0.7838 - val_loss: 0.7016\n"
     ]
    }
   ],
   "source": [
    "history = best_model.fit(\n",
    "    train,\n",
    "    epochs=200,\n",
    "    validation_data=val,\n",
    "    callbacks=[early_stopping])"
   ]
  },
  {
   "cell_type": "markdown",
   "metadata": {},
   "source": [
    "---\n",
    "\n",
    "Plot Learning Curve\n",
    "\n",
    "---"
   ]
  },
  {
   "cell_type": "code",
   "execution_count": 9,
   "metadata": {},
   "outputs": [
    {
     "data": {
      "image/png": "[encoded data removed]",
      "text/plain": [
       "<Figure size 1200x400 with 1 Axes>"
      ]
     },
     "metadata": {},
     "output_type": "display_data"
    }
   ],
   "source": [
    "plt.figure(figsize=(12, 4))\n",
    "plt.plot(history.history['accuracy'], label='train accuracy')\n",
    "plt.plot(history.history['val_accuracy'], label='val accuracy')\n",
    "plt.title('Accuracy')\n",
    "plt.xlabel('Epochs')\n",
    "plt.ylabel('Accuracy')\n",
    "plt.legend()\n",
    "\n",
    "plt.show()"
   ]
  },
  {
   "cell_type": "markdown",
   "metadata": {},
   "source": [
    "---\n",
    "\n",
    "Obtain Model Metrics\n",
    "\n",
    "---"
   ]
  },
  {
   "cell_type": "code",
   "execution_count": 10,
   "metadata": {},
   "outputs": [
    {
     "name": "stdout",
     "output_type": "stream",
     "text": [
      "\u001b[1m235/235\u001b[0m \u001b[32m━━━━━━━━━━━━━━━━━━━━\u001b[0m\u001b[37m\u001b[0m \u001b[1m71s\u001b[0m 305ms/step\n",
      "              precision    recall  f1-score   support\n",
      "\n",
      "           0       0.85      0.90      0.87       625\n",
      "           1       0.89      0.82      0.86       625\n",
      "           2       0.93      0.94      0.93       625\n",
      "           3       0.95      0.97      0.96       625\n",
      "           4       0.87      0.93      0.90       625\n",
      "           5       0.98      1.00      0.99       625\n",
      "           6       0.95      0.87      0.90       625\n",
      "           7       0.93      0.67      0.78       625\n",
      "           8       0.76      0.98      0.85       625\n",
      "           9       0.78      0.78      0.78       625\n",
      "          10       0.92      0.39      0.55       625\n",
      "          11       0.60      0.92      0.73       625\n",
      "\n",
      "    accuracy                           0.85      7500\n",
      "   macro avg       0.87      0.85      0.84      7500\n",
      "weighted avg       0.87      0.85      0.84      7500\n",
      "\n"
     ]
    }
   ],
   "source": [
    "y_pred = best_model.predict(test, verbose=1)\n",
    "y_pred_classes = np.argmax(y_pred, axis=1)\n",
    "\n",
    "y_true = test.classes\n",
    "results = classification_report(y_true, y_pred_classes)\n",
    "print(results)\n"
   ]
  },
  {
   "cell_type": "markdown",
   "metadata": {},
   "source": [
    "---\n",
    "\n",
    "Obtain Val Accuracy\n",
    "\n",
    "---"
   ]
  },
  {
   "cell_type": "code",
   "execution_count": null,
   "metadata": {},
   "outputs": [
    {
     "name": "stdout",
     "output_type": "stream",
     "text": [
      "\u001b[1m235/235\u001b[0m \u001b[32m━━━━━━━━━━━━━━━━━━━━\u001b[0m\u001b[37m\u001b[0m \u001b[1m17s\u001b[0m 74ms/step - accuracy: 0.8501 - loss: 0.4165\n",
      "Metrics: [0.847599983215332]\n"
     ]
    }
   ],
   "source": [
    "results = best_model.evaluate(val, verbose=1)\n",
    "print(f\"Metrics: {results[1:]}\")"
   ]
  },
  {
   "cell_type": "markdown",
   "metadata": {},
   "source": [
    "---\n",
    "\n",
    "Save the Model\n",
    "\n",
    "---"
   ]
  },
  {
   "cell_type": "code",
   "execution_count": 12,
   "metadata": {},
   "outputs": [],
   "source": [
    "best_model.save('Histopathology.keras')\n"
   ]
  }
 ],
 "metadata": {
  "kernelspec": {
   "display_name": "Python 3",
   "language": "python",
   "name": "python3"
  },
  "language_info": {
   "codemirror_mode": {
    "name": "ipython",
    "version": 3
   },
   "file_extension": ".py",
   "mimetype": "text/x-python",
   "name": "python",
   "nbconvert_exporter": "python",
   "pygments_lexer": "ipython3",
   "version": "3.10.9"
  }
 },
 "nbformat": 4,
 "nbformat_minor": 2
}
