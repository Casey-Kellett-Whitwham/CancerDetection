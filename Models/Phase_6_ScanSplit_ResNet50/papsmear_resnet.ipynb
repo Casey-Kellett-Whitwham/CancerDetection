{
 "cells": [
  {
   "cell_type": "markdown",
   "metadata": {},
   "source": [
    "---\n",
    "\n",
    "Imports\n",
    "\n",
    "---"
   ]
  },
  {
   "cell_type": "code",
   "execution_count": null,
   "metadata": {},
   "outputs": [],
   "source": [
    "import os\n",
    "import numpy as np\n",
    "import torch\n",
    "import matplotlib.pyplot as plt\n",
    "from torch.utils.data import DataLoader, Subset\n",
    "from torchvision import datasets, models, transforms\n",
    "from sklearn.model_selection import StratifiedShuffleSplit\n",
    "from torch import nn, optim\n",
    "from PIL import Image"
   ]
  },
  {
   "cell_type": "markdown",
   "metadata": {},
   "source": [
    "---\n",
    "\n",
    "Define Data Source and Transformations\n",
    "\n",
    "---"
   ]
  },
  {
   "cell_type": "code",
   "execution_count": 7,
   "metadata": {},
   "outputs": [],
   "source": [
    "data_folder = 'Scan Data/Pap Smear'\n",
    "\n",
    "transform_train = transforms.Compose([\n",
    "    transforms.RandomResizedCrop(64),\n",
    "    transforms.RandomHorizontalFlip(),\n",
    "    transforms.RandomRotation(20),\n",
    "    transforms.ColorJitter(brightness=0.2, contrast=0.2, saturation=0.2, hue=0.2),\n",
    "    transforms.ToTensor(),\n",
    "    transforms.Normalize(mean=[0.485, 0.456, 0.406], std=[0.229, 0.224, 0.225]),\n",
    "])\n",
    "\n",
    "transform_testval = transforms.Compose([\n",
    "    transforms.Resize(64),\n",
    "    transforms.CenterCrop(64),\n",
    "    transforms.ToTensor(),\n",
    "    transforms.Normalize(mean=[0.485, 0.456, 0.406], std=[0.229, 0.224, 0.225]),\n",
    "])"
   ]
  },
  {
   "cell_type": "markdown",
   "metadata": {},
   "source": [
    "---\n",
    "\n",
    "Load Data\n",
    "\n",
    "---"
   ]
  },
  {
   "cell_type": "code",
   "execution_count": null,
   "metadata": {},
   "outputs": [],
   "source": [
    "dataset = datasets.ImageFolder(root=data_folder, transform=None)"
   ]
  },
  {
   "cell_type": "markdown",
   "metadata": {},
   "source": [
    "---\n",
    "\n",
    "Split,Transform and Load data into Train,Test and Val\n",
    "\n",
    "---"
   ]
  },
  {
   "cell_type": "code",
   "execution_count": null,
   "metadata": {},
   "outputs": [],
   "source": [
    "total_samples = len(dataset)\n",
    "testval_samples = int(total_samples * 0.125)\n",
    "testval_size = testval_samples\n",
    "labels = [item[1] for item in dataset.imgs]\n",
    "\n",
    "train_test_val = StratifiedShuffleSplit(n_splits=1, test_size=testval_size, random_state=42)\n",
    "test_val = StratifiedShuffleSplit(n_splits=1, test_size=0.5, random_state=42)\n",
    "\n",
    "train_indices, testval_indices = next(train_test_val.split(np.zeros(len(labels)), labels))\n",
    "test_indices, val_indices = next(test_val.split(np.zeros(len(labels)), labels))\n",
    "\n",
    "train_subset = Subset(dataset, train_indices)\n",
    "test_subset = Subset(dataset,test_indices)\n",
    "val_subset = Subset(dataset, val_indices)\n",
    "\n",
    "train_subset.dataset.transform = transform_train\n",
    "test_subset.dataset.transform = transform_testval\n",
    "val_subset.dataset.transform = transform_testval\n",
    "\n",
    "train_loader = DataLoader(train_subset, batch_size=32, shuffle=True)\n",
    "test_loader = DataLoader(test_subset, batch_size=32, shuffle=False)\n",
    "val_loader = DataLoader(val_subset, batch_size=32, shuffle=False)"
   ]
  },
  {
   "cell_type": "markdown",
   "metadata": {},
   "source": [
    "---\n",
    "\n",
    "Load ResNet50 model and define Params\n",
    "\n",
    "---"
   ]
  },
  {
   "cell_type": "code",
   "execution_count": 9,
   "metadata": {},
   "outputs": [
    {
     "name": "stderr",
     "output_type": "stream",
     "text": [
      "c:\\Users\\ckell\\AppData\\Local\\Programs\\Python\\Python310\\lib\\site-packages\\torchvision\\models\\_utils.py:208: UserWarning: The parameter 'pretrained' is deprecated since 0.13 and may be removed in the future, please use 'weights' instead.\n",
      "  warnings.warn(\n",
      "c:\\Users\\ckell\\AppData\\Local\\Programs\\Python\\Python310\\lib\\site-packages\\torchvision\\models\\_utils.py:223: UserWarning: Arguments other than a weight enum or `None` for 'weights' are deprecated since 0.13 and may be removed in the future. The current behavior is equivalent to passing `weights=ResNet50_Weights.IMAGENET1K_V1`. You can also use `weights=ResNet50_Weights.DEFAULT` to get the most up-to-date weights.\n",
      "  warnings.warn(msg)\n"
     ]
    },
    {
     "data": {
      "text/plain": [
       "device(type='cuda')"
      ]
     },
     "execution_count": 9,
     "metadata": {},
     "output_type": "execute_result"
    }
   ],
   "source": [
    "model = models.resnet50(pretrained=True)\n",
    "\n",
    "num_ftrs = model.fc.in_features\n",
    "model.fc = nn.Sequential(\n",
    "    nn.Dropout(p=0.4),\n",
    "    nn.Linear(num_ftrs, len(dataset.classes))\n",
    ")\n",
    "\n",
    "device = torch.device(\"cuda\" if torch.cuda.is_available() else \"cpu\")\n",
    "model.to(device)\n",
    "\n",
    "criterion = nn.CrossEntropyLoss()\n",
    "optimizer = optim.Adam(model.parameters(), lr=0.001, weight_decay=1e-4)\n",
    "device\n"
   ]
  },
  {
   "cell_type": "markdown",
   "metadata": {},
   "source": [
    "---\n",
    "\n",
    "Train Model\n",
    "\n",
    "---"
   ]
  },
  {
   "cell_type": "code",
   "execution_count": 10,
   "metadata": {},
   "outputs": [
    {
     "name": "stdout",
     "output_type": "stream",
     "text": [
      "Epoch 1/25, Loss: 0.2999, Train Accuracy: 90.30% Validation Accuracy: 90.27%\n",
      "Epoch 2/25, Loss: 0.1092, Train Accuracy: 96.52% Validation Accuracy: 95.46%\n",
      "Epoch 3/25, Loss: 0.0912, Train Accuracy: 97.05% Validation Accuracy: 92.84%\n",
      "Epoch 4/25, Loss: 0.0757, Train Accuracy: 97.77% Validation Accuracy: 99.46%\n",
      "Epoch 5/25, Loss: 0.0587, Train Accuracy: 98.11% Validation Accuracy: 98.10%\n",
      "Epoch 6/25, Loss: 0.0614, Train Accuracy: 98.13% Validation Accuracy: 97.99%\n",
      "Epoch 7/25, Loss: 0.0587, Train Accuracy: 98.25% Validation Accuracy: 98.12%\n",
      "Epoch 8/25, Loss: 0.0522, Train Accuracy: 98.38% Validation Accuracy: 98.84%\n",
      "Epoch 9/25, Loss: 0.0473, Train Accuracy: 98.49% Validation Accuracy: 99.30%\n",
      "Epoch 10/25, Loss: 0.0424, Train Accuracy: 98.72% Validation Accuracy: 99.22%\n",
      "Epoch 11/25, Loss: 0.0393, Train Accuracy: 98.88% Validation Accuracy: 99.06%\n",
      "Epoch 12/25, Loss: 0.0371, Train Accuracy: 98.93% Validation Accuracy: 98.34%\n",
      "Epoch 13/25, Loss: 0.0378, Train Accuracy: 98.81% Validation Accuracy: 99.82%\n",
      "Epoch 14/25, Loss: 0.0254, Train Accuracy: 99.24% Validation Accuracy: 99.60%\n",
      "Epoch 15/25, Loss: 0.0331, Train Accuracy: 99.04% Validation Accuracy: 99.59%\n",
      "Epoch 16/25, Loss: 0.0293, Train Accuracy: 99.10% Validation Accuracy: 96.64%\n",
      "Epoch 17/25, Loss: 0.0231, Train Accuracy: 99.26% Validation Accuracy: 96.52%\n",
      "Epoch 18/25, Loss: 0.0260, Train Accuracy: 99.15% Validation Accuracy: 98.91%\n",
      "Epoch 19/25, Loss: 0.0220, Train Accuracy: 99.29% Validation Accuracy: 99.91%\n",
      "Epoch 20/25, Loss: 0.0267, Train Accuracy: 99.17% Validation Accuracy: 99.90%\n",
      "Epoch 21/25, Loss: 0.0201, Train Accuracy: 99.40% Validation Accuracy: 99.08%\n",
      "Epoch 22/25, Loss: 0.0230, Train Accuracy: 99.31% Validation Accuracy: 99.24%\n",
      "Epoch 23/25, Loss: 0.0212, Train Accuracy: 99.37% Validation Accuracy: 97.27%\n",
      "Epoch 24/25, Loss: 0.0214, Train Accuracy: 99.33% Validation Accuracy: 99.82%\n",
      "Epoch 25/25, Loss: 0.0194, Train Accuracy: 99.37% Validation Accuracy: 99.25%\n"
     ]
    }
   ],
   "source": [
    "epochs = 25\n",
    "history_train = []\n",
    "history_val = []\n",
    "\n",
    "for epoch in range(epochs):\n",
    "    model.train()\n",
    "    running_loss = 0.0\n",
    "    correct = 0\n",
    "    total = 0\n",
    "    \n",
    "    for inputs, labels in train_loader:\n",
    "        inputs, labels = inputs.to(device), labels.to(device)\n",
    "        optimizer.zero_grad()\n",
    "        outputs = model(inputs)\n",
    "        \n",
    "        loss = criterion(outputs, labels)\n",
    "\n",
    "        loss.backward()\n",
    "        optimizer.step()\n",
    "        \n",
    "        running_loss += loss.item()\n",
    "        \n",
    "        _, predicted = torch.max(outputs, 1)\n",
    "        total += labels.size(0)\n",
    "        correct += (predicted == labels).sum().item()\n",
    "\n",
    "    train_accuracy = 100 * correct / total\n",
    "    model.eval()\n",
    "    correct = 0\n",
    "    total = 0\n",
    "\n",
    "    with torch.no_grad():\n",
    "        for inputs, labels in val_loader:\n",
    "            inputs, labels = inputs.to(device), labels.to(device)\n",
    "            outputs = model(inputs)\n",
    "\n",
    "            _, predicted = torch.max(outputs, 1)\n",
    "            \n",
    "            total += labels.size(0)\n",
    "            correct += (predicted == labels).sum().item()\n",
    "\n",
    "    val_accuracy = 100 * correct / total\n",
    "    print(f'Epoch {epoch+1}/{epochs}, Loss: {running_loss/len(train_loader):.4f}, Train Accuracy: {train_accuracy:.2f}%',f'Validation Accuracy: {val_accuracy:.2f}%')\n",
    "    history_train.append(train_accuracy)\n",
    "    history_val.append(val_accuracy)"
   ]
  },
  {
   "cell_type": "markdown",
   "metadata": {},
   "source": [
    "---\n",
    "\n",
    "Plot Learning Curve\n",
    "\n",
    "---"
   ]
  },
  {
   "cell_type": "code",
   "execution_count": null,
   "metadata": {},
   "outputs": [
    {
     "data": {
      "image/png": "[encoded data removed]",
      "text/plain": [
       "<Figure size 1000x600 with 1 Axes>"
      ]
     },
     "metadata": {},
     "output_type": "display_data"
    }
   ],
   "source": [
    "plt.figure(figsize=(10, 6))\n",
    "plt.plot(range(1, epochs + 1), history_train, label='Training Accuracy', color='blue', linestyle='-', linewidth=2)\n",
    "plt.plot(range(1, epochs + 1), history_val, label='Validation Accuracy', color='orange', linestyle='-', linewidth=2)\n",
    "plt.xlabel('Epochs')\n",
    "plt.ylabel('Accuracy (%)')\n",
    "plt.title('Training and Validation Accuracy')\n",
    "plt.legend(loc='lower right')\n",
    "plt.grid(True)\n",
    "plt.show()\n"
   ]
  },
  {
   "cell_type": "markdown",
   "metadata": {},
   "source": [
    "---\n",
    "\n",
    "Obtain Val Accuracy\n",
    "\n",
    "---"
   ]
  },
  {
   "cell_type": "code",
   "execution_count": null,
   "metadata": {},
   "outputs": [
    {
     "name": "stdout",
     "output_type": "stream",
     "text": [
      "Validation Accuracy: 99.38%\n"
     ]
    }
   ],
   "source": [
    "model.eval()\n",
    "correct = 0\n",
    "total = 0\n",
    "\n",
    "with torch.no_grad():\n",
    "    for inputs, labels in val_loader:\n",
    "        inputs, labels = inputs.to(device), labels.to(device)\n",
    "        outputs = model(inputs)\n",
    "\n",
    "        _, predicted = torch.max(outputs, 1)\n",
    "        \n",
    "        total += labels.size(0)\n",
    "        correct += (predicted == labels).sum().item()\n",
    "\n",
    "val_accuracy = 100 * correct / total\n",
    "print(f'Validation Accuracy: {val_accuracy:.2f}%')"
   ]
  },
  {
   "cell_type": "markdown",
   "metadata": {},
   "source": [
    "---\n",
    "\n",
    "Save Model\n",
    "\n",
    "---"
   ]
  },
  {
   "cell_type": "code",
   "execution_count": 13,
   "metadata": {},
   "outputs": [],
   "source": [
    "torch.save(model, \"Pap Smear.pth\")"
   ]
  }
 ],
 "metadata": {
  "kernelspec": {
   "display_name": "Python 3",
   "language": "python",
   "name": "python3"
  },
  "language_info": {
   "codemirror_mode": {
    "name": "ipython",
    "version": 3
   },
   "file_extension": ".py",
   "mimetype": "text/x-python",
   "name": "python",
   "nbconvert_exporter": "python",
   "pygments_lexer": "ipython3",
   "version": "3.10.9"
  }
 },
 "nbformat": 4,
 "nbformat_minor": 2
}
