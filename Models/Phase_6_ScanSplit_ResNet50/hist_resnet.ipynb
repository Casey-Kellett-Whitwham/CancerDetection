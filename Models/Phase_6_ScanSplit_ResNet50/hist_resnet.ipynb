{
 "cells": [
  {
   "cell_type": "markdown",
   "metadata": {},
   "source": [
    "---\n",
    "\n",
    "Imports\n",
    "\n",
    "---"
   ]
  },
  {
   "cell_type": "code",
   "execution_count": null,
   "metadata": {},
   "outputs": [],
   "source": [
    "import os\n",
    "import numpy as np\n",
    "import torch\n",
    "import matplotlib.pyplot as plt\n",
    "from torch.utils.data import DataLoader, Subset\n",
    "from torchvision import datasets, models, transforms\n",
    "from sklearn.model_selection import StratifiedShuffleSplit\n",
    "from torch import nn, optim\n",
    "from PIL import Image"
   ]
  },
  {
   "cell_type": "markdown",
   "metadata": {},
   "source": [
    "---\n",
    "\n",
    "Define Data Source and Transformations\n",
    "\n",
    "---"
   ]
  },
  {
   "cell_type": "code",
   "execution_count": 3,
   "metadata": {},
   "outputs": [],
   "source": [
    "data_folder = 'Scan Data/Histopathology'\n",
    "\n",
    "transform_train = transforms.Compose([\n",
    "    transforms.RandomResizedCrop(64),\n",
    "    transforms.RandomHorizontalFlip(),\n",
    "    transforms.RandomRotation(20),\n",
    "    transforms.ColorJitter(brightness=0.2, contrast=0.2, saturation=0.2, hue=0.2),\n",
    "    transforms.ToTensor(),\n",
    "    transforms.Normalize(mean=[0.485, 0.456, 0.406], std=[0.229, 0.224, 0.225]),\n",
    "])\n",
    "\n",
    "transform_testval = transforms.Compose([\n",
    "    transforms.Resize(64),\n",
    "    transforms.CenterCrop(64),\n",
    "    transforms.ToTensor(),\n",
    "    transforms.Normalize(mean=[0.485, 0.456, 0.406], std=[0.229, 0.224, 0.225]),\n",
    "])"
   ]
  },
  {
   "cell_type": "markdown",
   "metadata": {},
   "source": [
    "---\n",
    "\n",
    "Load Data\n",
    "\n",
    "---"
   ]
  },
  {
   "cell_type": "code",
   "execution_count": null,
   "metadata": {},
   "outputs": [],
   "source": [
    "dataset = datasets.ImageFolder(root=data_folder, transform=None)"
   ]
  },
  {
   "cell_type": "markdown",
   "metadata": {},
   "source": [
    "---\n",
    "\n",
    "Split, transform and load data to Train, Test and Val\n",
    "\n",
    "---"
   ]
  },
  {
   "cell_type": "code",
   "execution_count": null,
   "metadata": {},
   "outputs": [],
   "source": [
    "total_samples = len(dataset)\n",
    "testval_samples = int(total_samples * 0.125)\n",
    "testval_size = testval_samples\n",
    "labels = [item[1] for item in dataset.imgs]\n",
    "\n",
    "train_test_val = StratifiedShuffleSplit(n_splits=1, test_size=testval_size, random_state=42)\n",
    "test_val = StratifiedShuffleSplit(n_splits=1, test_size=0.5, random_state=42)\n",
    "\n",
    "train_indices, testval_indices = next(train_test_val.split(np.zeros(len(labels)), labels))\n",
    "test_indices, val_indices = next(test_val.split(np.zeros(len(labels)), labels))\n",
    "\n",
    "train_subset = Subset(dataset, train_indices)\n",
    "test_subset = Subset(dataset,test_indices)\n",
    "val_subset = Subset(dataset, val_indices)\n",
    "\n",
    "train_subset.dataset.transform = transform_train\n",
    "test_subset.dataset.transform = transform_testval\n",
    "val_subset.dataset.transform = transform_testval\n",
    "\n",
    "train_loader = DataLoader(train_subset, batch_size=32, shuffle=True)\n",
    "test_loader = DataLoader(test_subset, batch_size=32, shuffle=False)\n",
    "val_loader = DataLoader(val_subset, batch_size=32, shuffle=False)\n"
   ]
  },
  {
   "cell_type": "markdown",
   "metadata": {},
   "source": [
    "---\n",
    "\n",
    "Load ResNet50 Model and define params\n",
    "\n",
    "---"
   ]
  },
  {
   "cell_type": "code",
   "execution_count": 10,
   "metadata": {},
   "outputs": [
    {
     "data": {
      "text/plain": [
       "device(type='cuda')"
      ]
     },
     "execution_count": 10,
     "metadata": {},
     "output_type": "execute_result"
    }
   ],
   "source": [
    "model = models.resnet50(pretrained=True)\n",
    "\n",
    "num_ftrs = model.fc.in_features\n",
    "model.fc = nn.Sequential(\n",
    "    nn.Dropout(p=0.4),\n",
    "    nn.Linear(num_ftrs, len(dataset.classes))\n",
    ")\n",
    "\n",
    "device = torch.device(\"cuda\" if torch.cuda.is_available() else \"cpu\")\n",
    "model.to(device)\n",
    "\n",
    "criterion = nn.CrossEntropyLoss()\n",
    "optimizer = optim.Adam(model.parameters(), lr=0.001, weight_decay=1e-4)\n",
    "device\n"
   ]
  },
  {
   "cell_type": "markdown",
   "metadata": {},
   "source": [
    "---\n",
    "\n",
    "Train Model\n",
    "\n",
    "\n",
    "---"
   ]
  },
  {
   "cell_type": "code",
   "execution_count": 11,
   "metadata": {},
   "outputs": [
    {
     "name": "stdout",
     "output_type": "stream",
     "text": [
      "Epoch 1/25, Loss: 0.4886, Train Accuracy: 80.87% Validation Accuracy: 89.99%\n",
      "Epoch 2/25, Loss: 0.2984, Train Accuracy: 88.50% Validation Accuracy: 90.72%\n",
      "Epoch 3/25, Loss: 0.2369, Train Accuracy: 90.88% Validation Accuracy: 93.36%\n",
      "Epoch 4/25, Loss: 0.1989, Train Accuracy: 92.45% Validation Accuracy: 94.76%\n",
      "Epoch 5/25, Loss: 0.1679, Train Accuracy: 93.64% Validation Accuracy: 93.76%\n",
      "Epoch 6/25, Loss: 0.1468, Train Accuracy: 94.51% Validation Accuracy: 96.74%\n",
      "Epoch 7/25, Loss: 0.1361, Train Accuracy: 94.91% Validation Accuracy: 97.19%\n",
      "Epoch 8/25, Loss: 0.1230, Train Accuracy: 95.44% Validation Accuracy: 96.97%\n",
      "Epoch 9/25, Loss: 0.1183, Train Accuracy: 95.61% Validation Accuracy: 97.36%\n",
      "Epoch 10/25, Loss: 0.1087, Train Accuracy: 95.96% Validation Accuracy: 97.65%\n",
      "Epoch 11/25, Loss: 0.1015, Train Accuracy: 96.22% Validation Accuracy: 97.35%\n",
      "Epoch 12/25, Loss: 0.0947, Train Accuracy: 96.52% Validation Accuracy: 96.68%\n",
      "Epoch 13/25, Loss: 0.0972, Train Accuracy: 96.40% Validation Accuracy: 97.29%\n",
      "Epoch 14/25, Loss: 0.0890, Train Accuracy: 96.78% Validation Accuracy: 97.03%\n",
      "Epoch 15/25, Loss: 0.0876, Train Accuracy: 96.87% Validation Accuracy: 97.58%\n",
      "Epoch 16/25, Loss: 0.0856, Train Accuracy: 96.89% Validation Accuracy: 96.90%\n",
      "Epoch 17/25, Loss: 0.0846, Train Accuracy: 96.97% Validation Accuracy: 98.59%\n",
      "Epoch 18/25, Loss: 0.0793, Train Accuracy: 97.13% Validation Accuracy: 97.87%\n",
      "Epoch 19/25, Loss: 0.0811, Train Accuracy: 97.03% Validation Accuracy: 96.41%\n",
      "Epoch 20/25, Loss: 0.0737, Train Accuracy: 97.35% Validation Accuracy: 98.34%\n",
      "Epoch 21/25, Loss: 0.0782, Train Accuracy: 97.20% Validation Accuracy: 98.14%\n",
      "Epoch 22/25, Loss: 0.0760, Train Accuracy: 97.21% Validation Accuracy: 96.93%\n",
      "Epoch 23/25, Loss: 0.0700, Train Accuracy: 97.51% Validation Accuracy: 98.51%\n",
      "Epoch 24/25, Loss: 0.0756, Train Accuracy: 97.27% Validation Accuracy: 98.25%\n",
      "Epoch 25/25, Loss: 0.0707, Train Accuracy: 97.52% Validation Accuracy: 97.95%\n"
     ]
    }
   ],
   "source": [
    "epochs = 25\n",
    "history_train = []\n",
    "history_val = []\n",
    "\n",
    "for epoch in range(epochs):\n",
    "    model.train()\n",
    "    running_loss = 0.0\n",
    "    correct = 0\n",
    "    total = 0\n",
    "    \n",
    "    for inputs, labels in train_loader:\n",
    "        inputs, labels = inputs.to(device), labels.to(device)\n",
    "        optimizer.zero_grad()\n",
    "        outputs = model(inputs)\n",
    "        \n",
    "        loss = criterion(outputs, labels)\n",
    "\n",
    "        loss.backward()\n",
    "        optimizer.step()\n",
    "        \n",
    "        running_loss += loss.item()\n",
    "        \n",
    "        _, predicted = torch.max(outputs, 1)\n",
    "        total += labels.size(0)\n",
    "        correct += (predicted == labels).sum().item()\n",
    "\n",
    "    train_accuracy = 100 * correct / total\n",
    "    model.eval()\n",
    "    correct = 0\n",
    "    total = 0\n",
    "\n",
    "    with torch.no_grad():\n",
    "        for inputs, labels in val_loader:\n",
    "            inputs, labels = inputs.to(device), labels.to(device)\n",
    "            outputs = model(inputs)\n",
    "\n",
    "            _, predicted = torch.max(outputs, 1)\n",
    "            \n",
    "            total += labels.size(0)\n",
    "            correct += (predicted == labels).sum().item()\n",
    "\n",
    "    val_accuracy = 100 * correct / total\n",
    "    print(f'Epoch {epoch+1}/{epochs}, Loss: {running_loss/len(train_loader):.4f}, Train Accuracy: {train_accuracy:.2f}%',f'Validation Accuracy: {val_accuracy:.2f}%')\n",
    "    history_train.append(train_accuracy)\n",
    "    history_val.append(val_accuracy)"
   ]
  },
  {
   "cell_type": "markdown",
   "metadata": {},
   "source": [
    "---\n",
    "\n",
    "Plot Learning Curve\n",
    "\n",
    "---"
   ]
  },
  {
   "cell_type": "code",
   "execution_count": null,
   "metadata": {},
   "outputs": [
    {
     "data": {
      "image/png": "[encoded data removed]",
      "text/plain": [
       "<Figure size 1000x600 with 1 Axes>"
      ]
     },
     "metadata": {},
     "output_type": "display_data"
    }
   ],
   "source": [
    "plt.figure(figsize=(10, 6))\n",
    "plt.plot(range(1, epochs + 1), history_train, label='Training Accuracy', color='blue', linestyle='-', linewidth=2)\n",
    "plt.plot(range(1, epochs + 1), history_val, label='Validation Accuracy', color='orange', linestyle='-', linewidth=2)\n",
    "plt.xlabel('Epochs')\n",
    "plt.ylabel('Accuracy (%)')\n",
    "plt.title('Training and Validation Accuracy')\n",
    "plt.legend(loc='lower right')\n",
    "plt.grid(True)\n",
    "plt.show()\n"
   ]
  },
  {
   "cell_type": "markdown",
   "metadata": {},
   "source": [
    "---\n",
    "\n",
    "Obtain Val Accuracy\n",
    "\n",
    "---"
   ]
  },
  {
   "cell_type": "code",
   "execution_count": null,
   "metadata": {},
   "outputs": [
    {
     "name": "stdout",
     "output_type": "stream",
     "text": [
      "Validation Accuracy: 98.33%\n"
     ]
    }
   ],
   "source": [
    "model.eval()\n",
    "correct = 0\n",
    "total = 0\n",
    "\n",
    "with torch.no_grad():\n",
    "    for inputs, labels in val_loader:\n",
    "        inputs, labels = inputs.to(device), labels.to(device)\n",
    "        outputs = model(inputs)\n",
    "\n",
    "        _, predicted = torch.max(outputs, 1)\n",
    "        \n",
    "        total += labels.size(0)\n",
    "        correct += (predicted == labels).sum().item()\n",
    "\n",
    "val_accuracy = 100 * correct / total\n",
    "print(f'Validation Accuracy: {val_accuracy:.2f}%')"
   ]
  },
  {
   "cell_type": "markdown",
   "metadata": {},
   "source": [
    "---\n",
    "\n",
    "Save Model\n",
    "\n",
    "---"
   ]
  },
  {
   "cell_type": "code",
   "execution_count": 18,
   "metadata": {},
   "outputs": [],
   "source": [
    "torch.save(model, \"Histopathology.pth\")"
   ]
  }
 ],
 "metadata": {
  "kernelspec": {
   "display_name": "Python 3",
   "language": "python",
   "name": "python3"
  },
  "language_info": {
   "codemirror_mode": {
    "name": "ipython",
    "version": 3
   },
   "file_extension": ".py",
   "mimetype": "text/x-python",
   "name": "python",
   "nbconvert_exporter": "python",
   "pygments_lexer": "ipython3",
   "version": "3.10.9"
  }
 },
 "nbformat": 4,
 "nbformat_minor": 2
}
